{
 "cells": [
  {
   "cell_type": "code",
   "execution_count": 1,
   "source": [
    "from pyspark.sql import SparkSession\n",
    "from logging_handler import logger\n",
    "try:\n",
    "    appName = \"PySpark hive Facebook Data\"\n",
    "    master = \"local\"\n",
    "    spark = SparkSession.builder.master(master).appName(appName).enableHiveSupport().getOrCreate()\n",
    "\n",
    "except Exception as e:\n",
    "    logger.info(e)"
   ],
   "outputs": [
    {
     "output_type": "stream",
     "name": "stderr",
     "text": [
      "2021-09-30 09:36:13,169 WARN util.NativeCodeLoader: Unable to load native-hadoop library for your platform... using builtin-java classes where applicable\n",
      "Setting default log level to \"WARN\".\n",
      "To adjust logging level use sc.setLogLevel(newLevel). For SparkR, use setLogLevel(newLevel).\n"
     ]
    }
   ],
   "metadata": {}
  },
  {
   "cell_type": "markdown",
   "source": [
    "# LOADING FILE FROM HDFS TO SPARK DATAFRAME AND CREATING A VIEW"
   ],
   "metadata": {}
  },
  {
   "cell_type": "code",
   "execution_count": null,
   "source": [
    "df = spark.read.csv(\"hdfs://localhost:9000/Sample/facebook.csv\",header=True)\n",
    "df.createOrReplaceTempView(\"data\")"
   ],
   "outputs": [],
   "metadata": {}
  },
  {
   "cell_type": "markdown",
   "source": [
    "# CREATING HIVE TABLE FROM VIEW CREATED ABOVE"
   ],
   "metadata": {}
  },
  {
   "cell_type": "code",
   "execution_count": null,
   "source": [
    "try:\n",
    "    spark.sql(\"create table default.facebook_data as select * from data\")\n",
    "except Exception as e:\n",
    "    logger.info(e)"
   ],
   "outputs": [],
   "metadata": {}
  },
  {
   "cell_type": "code",
   "execution_count": 2,
   "source": [
    "import pandas as pd\n",
    "import numpy as np\n",
    "from matplotlib import pyplot as plt"
   ],
   "outputs": [],
   "metadata": {}
  },
  {
   "cell_type": "markdown",
   "source": [
    "# SPARK + HIVE "
   ],
   "metadata": {}
  },
  {
   "cell_type": "code",
   "execution_count": 3,
   "source": [
    "df=spark.sql(\"use default\")"
   ],
   "outputs": [
    {
     "output_type": "stream",
     "name": "stderr",
     "text": [
      "2021-09-30 09:37:01,113 WARN conf.HiveConf: HiveConf of name hive.metastore.wm.default.pool.size does not exist\n",
      "2021-09-30 09:37:01,114 WARN conf.HiveConf: HiveConf of name hive.llap.task.scheduler.preempt.independent does not exist\n",
      "2021-09-30 09:37:01,114 WARN conf.HiveConf: HiveConf of name hive.llap.output.format.arrow does not exist\n",
      "2021-09-30 09:37:01,114 WARN conf.HiveConf: HiveConf of name hive.tez.llap.min.reducer.per.executor does not exist\n",
      "2021-09-30 09:37:01,114 WARN conf.HiveConf: HiveConf of name hive.arrow.root.allocator.limit does not exist\n",
      "2021-09-30 09:37:01,114 WARN conf.HiveConf: HiveConf of name hive.vectorized.use.checked.expressions does not exist\n",
      "2021-09-30 09:37:01,114 WARN conf.HiveConf: HiveConf of name hive.tez.dynamic.semijoin.reduction.for.mapjoin does not exist\n",
      "2021-09-30 09:37:01,114 WARN conf.HiveConf: HiveConf of name hive.vectorized.complex.types.enabled does not exist\n",
      "2021-09-30 09:37:01,114 WARN conf.HiveConf: HiveConf of name hive.server2.wm.worker.threads does not exist\n",
      "2021-09-30 09:37:01,114 WARN conf.HiveConf: HiveConf of name hive.repl.partitions.dump.parallelism does not exist\n",
      "2021-09-30 09:37:01,114 WARN conf.HiveConf: HiveConf of name hive.metastore.uri.selection does not exist\n",
      "2021-09-30 09:37:01,114 WARN conf.HiveConf: HiveConf of name hive.strict.checks.no.partition.filter does not exist\n",
      "2021-09-30 09:37:01,114 WARN conf.HiveConf: HiveConf of name hive.tez.dynamic.semijoin.reduction.for.dpp.factor does not exist\n",
      "2021-09-30 09:37:01,114 WARN conf.HiveConf: HiveConf of name hive.stats.filter.in.min.ratio does not exist\n",
      "2021-09-30 09:37:01,114 WARN conf.HiveConf: HiveConf of name hive.metastore.client.cache.initial.capacity does not exist\n",
      "2021-09-30 09:37:01,115 WARN conf.HiveConf: HiveConf of name hive.stats.ndv.estimate.percent does not exist\n",
      "2021-09-30 09:37:01,115 WARN conf.HiveConf: HiveConf of name hive.server2.webui.cors.allowed.methods does not exist\n",
      "2021-09-30 09:37:01,115 WARN conf.HiveConf: HiveConf of name hive.optimize.joinreducededuplication does not exist\n",
      "2021-09-30 09:37:01,115 WARN conf.HiveConf: HiveConf of name hive.metastore.client.cache.enabled does not exist\n",
      "2021-09-30 09:37:01,115 WARN conf.HiveConf: HiveConf of name hive.stats.fetch.bitvector does not exist\n",
      "2021-09-30 09:37:01,115 WARN conf.HiveConf: HiveConf of name hive.disable.unsafe.external.table.operations does not exist\n",
      "2021-09-30 09:37:01,115 WARN conf.HiveConf: HiveConf of name hive.materializedview.rewriting.incremental does not exist\n",
      "2021-09-30 09:37:01,115 WARN conf.HiveConf: HiveConf of name hive.server2.materializedviews.registry.impl does not exist\n",
      "2021-09-30 09:37:01,115 WARN conf.HiveConf: HiveConf of name hive.metastore.event.db.notification.api.auth does not exist\n",
      "2021-09-30 09:37:01,115 WARN conf.HiveConf: HiveConf of name hive.exec.orc.delta.streaming.optimizations.enabled does not exist\n",
      "2021-09-30 09:37:01,115 WARN conf.HiveConf: HiveConf of name hive.stats.ndv.algo does not exist\n",
      "2021-09-30 09:37:01,115 WARN conf.HiveConf: HiveConf of name hive.spark.job.max.tasks does not exist\n",
      "2021-09-30 09:37:01,115 WARN conf.HiveConf: HiveConf of name hive.msck.repair.batch.max.retries does not exist\n",
      "2021-09-30 09:37:01,115 WARN conf.HiveConf: HiveConf of name hive.prewarm.spark.timeout does not exist\n",
      "2021-09-30 09:37:01,115 WARN conf.HiveConf: HiveConf of name hive.optimize.update.table.properties.from.serde.list does not exist\n",
      "2021-09-30 09:37:01,115 WARN conf.HiveConf: HiveConf of name hive.llap.plugin.client.num.threads does not exist\n",
      "2021-09-30 09:37:01,115 WARN conf.HiveConf: HiveConf of name hive.test.bucketcodec.version does not exist\n",
      "2021-09-30 09:37:01,115 WARN conf.HiveConf: HiveConf of name hive.query.reexecution.enabled does not exist\n",
      "2021-09-30 09:37:01,115 WARN conf.HiveConf: HiveConf of name hive.materializedview.rewriting.time.window does not exist\n",
      "2021-09-30 09:37:01,115 WARN conf.HiveConf: HiveConf of name hive.query.reexecution.stats.cache.batch.size does not exist\n",
      "2021-09-30 09:37:01,116 WARN conf.HiveConf: HiveConf of name hive.server2.webui.cors.allowed.headers does not exist\n",
      "2021-09-30 09:37:01,116 WARN conf.HiveConf: HiveConf of name hive.join.inner.residual does not exist\n",
      "2021-09-30 09:37:01,116 WARN conf.HiveConf: HiveConf of name hive.server2.active.passive.ha.enable does not exist\n",
      "2021-09-30 09:37:01,116 WARN conf.HiveConf: HiveConf of name hive.llap.io.trace.always.dump does not exist\n",
      "2021-09-30 09:37:01,116 WARN conf.HiveConf: HiveConf of name hive.query.reexecution.stats.persist.scope does not exist\n",
      "2021-09-30 09:37:01,116 WARN conf.HiveConf: HiveConf of name hive.mm.allow.originals does not exist\n",
      "2021-09-30 09:37:01,116 WARN conf.HiveConf: HiveConf of name hive.compactor.compact.insert.only does not exist\n",
      "2021-09-30 09:37:01,116 WARN conf.HiveConf: HiveConf of name hive.txn.xlock.iow does not exist\n",
      "2021-09-30 09:37:01,116 WARN conf.HiveConf: HiveConf of name hive.spark.rsc.conf.list does not exist\n",
      "2021-09-30 09:37:01,116 WARN conf.HiveConf: HiveConf of name hive.llap.cache.defaultfs.only.native.fileid does not exist\n",
      "2021-09-30 09:37:01,116 WARN conf.HiveConf: HiveConf of name hive.spark.optimize.shuffle.serde does not exist\n",
      "2021-09-30 09:37:01,116 WARN conf.HiveConf: HiveConf of name hive.testing.remove.logs does not exist\n",
      "2021-09-30 09:37:01,116 WARN conf.HiveConf: HiveConf of name hive.distcp.privileged.doAs does not exist\n",
      "2021-09-30 09:37:01,116 WARN conf.HiveConf: HiveConf of name hive.strict.checks.orderby.no.limit does not exist\n",
      "2021-09-30 09:37:01,116 WARN conf.HiveConf: HiveConf of name hive.metastore.client.cache.expiry.time does not exist\n",
      "2021-09-30 09:37:01,116 WARN conf.HiveConf: HiveConf of name hive.llap.io.allocator.defrag.headroom does not exist\n",
      "2021-09-30 09:37:01,116 WARN conf.HiveConf: HiveConf of name hive.notification.event.consumers does not exist\n",
      "2021-09-30 09:37:01,117 WARN conf.HiveConf: HiveConf of name hive.vectorized.input.format.supports.enabled does not exist\n",
      "2021-09-30 09:37:01,117 WARN conf.HiveConf: HiveConf of name hive.metastore.client.cache.max.capacity does not exist\n",
      "2021-09-30 09:37:01,117 WARN conf.HiveConf: HiveConf of name hive.repl.dumpdir.clean.freq does not exist\n",
      "2021-09-30 09:37:01,117 WARN conf.HiveConf: HiveConf of name hive.spark.use.ts.stats.for.mapjoin does not exist\n",
      "2021-09-30 09:37:01,117 WARN conf.HiveConf: HiveConf of name hive.repl.dump.include.acid.tables does not exist\n",
      "2021-09-30 09:37:01,117 WARN conf.HiveConf: HiveConf of name hive.server2.webui.use.pam does not exist\n",
      "2021-09-30 09:37:01,117 WARN conf.HiveConf: HiveConf of name hive.query.reexecution.max.count does not exist\n",
      "2021-09-30 09:37:01,117 WARN conf.HiveConf: HiveConf of name hive.llap.io.share.object.pools does not exist\n",
      "2021-09-30 09:37:01,117 WARN conf.HiveConf: HiveConf of name hive.optimize.update.table.properties.from.serde does not exist\n",
      "2021-09-30 09:37:01,117 WARN conf.HiveConf: HiveConf of name hive.service.metrics.codahale.reporter.classes does not exist\n",
      "2021-09-30 09:37:01,117 WARN conf.HiveConf: HiveConf of name hive.tez.session.events.print.summary does not exist\n",
      "2021-09-30 09:37:01,117 WARN conf.HiveConf: HiveConf of name hive.llap.io.vrb.queue.limit.base does not exist\n",
      "2021-09-30 09:37:01,117 WARN conf.HiveConf: HiveConf of name hive.mm.avoid.s3.globstatus does not exist\n",
      "2021-09-30 09:37:01,117 WARN conf.HiveConf: HiveConf of name hive.server2.thrift.bind.port does not exist\n",
      "2021-09-30 09:37:01,117 WARN conf.HiveConf: HiveConf of name hive.repl.replica.functions.root.dir does not exist\n",
      "2021-09-30 09:37:01,117 WARN conf.HiveConf: HiveConf of name hive.query.results.cache.max.entry.lifetime does not exist\n",
      "2021-09-30 09:37:01,117 WARN conf.HiveConf: HiveConf of name hive.server2.limit.connections.per.user does not exist\n",
      "2021-09-30 09:37:01,117 WARN conf.HiveConf: HiveConf of name hive.server2.thrift.http.compression.enabled does not exist\n",
      "2021-09-30 09:37:01,118 WARN conf.HiveConf: HiveConf of name hive.vectorized.execution.ptf.enabled does not exist\n",
      "2021-09-30 09:37:01,118 WARN conf.HiveConf: HiveConf of name hive.optimize.shared.work.extended does not exist\n",
      "2021-09-30 09:37:01,118 WARN conf.HiveConf: HiveConf of name hive.vectorized.row.identifier.enabled does not exist\n",
      "2021-09-30 09:37:01,118 WARN conf.HiveConf: HiveConf of name hive.query.reexecution.always.collect.operator.stats does not exist\n",
      "2021-09-30 09:37:01,118 WARN conf.HiveConf: HiveConf of name hive.repl.dumpdir.ttl does not exist\n",
      "2021-09-30 09:37:01,118 WARN conf.HiveConf: HiveConf of name hive.local.time.zone does not exist\n",
      "2021-09-30 09:37:01,118 WARN conf.HiveConf: HiveConf of name hive.server2.tez.wm.am.registry.timeout does not exist\n",
      "2021-09-30 09:37:01,118 WARN conf.HiveConf: HiveConf of name hive.server2.active.passive.ha.registry.namespace does not exist\n",
      "2021-09-30 09:37:01,118 WARN conf.HiveConf: HiveConf of name hive.create.as.insert.only does not exist\n",
      "2021-09-30 09:37:01,118 WARN conf.HiveConf: HiveConf of name hive.llap.mapjoin.memory.oversubscribe.factor does not exist\n",
      "2021-09-30 09:37:01,118 WARN conf.HiveConf: HiveConf of name hive.arrow.batch.size does not exist\n",
      "2021-09-30 09:37:01,118 WARN conf.HiveConf: HiveConf of name hive.notification.sequence.lock.retry.sleep.interval does not exist\n",
      "2021-09-30 09:37:01,118 WARN conf.HiveConf: HiveConf of name hive.repl.approx.max.load.tasks does not exist\n",
      "2021-09-30 09:37:01,118 WARN conf.HiveConf: HiveConf of name hive.query.results.cache.enabled does not exist\n",
      "2021-09-30 09:37:01,118 WARN conf.HiveConf: HiveConf of name hive.legacy.schema.for.all.serdes does not exist\n",
      "2021-09-30 09:37:01,118 WARN conf.HiveConf: HiveConf of name hive.tez.dag.status.check.interval does not exist\n",
      "2021-09-30 09:37:01,118 WARN conf.HiveConf: HiveConf of name hive.druid.bitmap.type does not exist\n",
      "2021-09-30 09:37:01,118 WARN conf.HiveConf: HiveConf of name hive.spark.dynamic.partition.pruning.map.join.only does not exist\n",
      "2021-09-30 09:37:01,118 WARN conf.HiveConf: HiveConf of name hive.llap.memory.oversubscription.max.executors.per.query does not exist\n",
      "2021-09-30 09:37:01,119 WARN conf.HiveConf: HiveConf of name hive.llap.io.trace.size does not exist\n",
      "2021-09-30 09:37:01,119 WARN conf.HiveConf: HiveConf of name hive.llap.plugin.rpc.num.handlers does not exist\n",
      "2021-09-30 09:37:01,119 WARN conf.HiveConf: HiveConf of name hive.server2.wm.allow.any.pool.via.jdbc does not exist\n",
      "2021-09-30 09:37:01,119 WARN conf.HiveConf: HiveConf of name hive.vectorized.groupby.complex.types.enabled does not exist\n",
      "2021-09-30 09:37:01,119 WARN conf.HiveConf: HiveConf of name hive.avro.timestamp.skip.conversion does not exist\n",
      "2021-09-30 09:37:01,119 WARN conf.HiveConf: HiveConf of name hive.query.results.cache.nontransactional.tables.enabled does not exist\n",
      "2021-09-30 09:37:01,119 WARN conf.HiveConf: HiveConf of name hive.stats.correlated.multi.key.joins does not exist\n",
      "2021-09-30 09:37:01,119 WARN conf.HiveConf: HiveConf of name hive.metastore.db.type does not exist\n",
      "2021-09-30 09:37:01,119 WARN conf.HiveConf: HiveConf of name hive.streaming.auto.flush.check.interval.size does not exist\n",
      "2021-09-30 09:37:01,119 WARN conf.HiveConf: HiveConf of name hive.zookeeper.connection.timeout does not exist\n",
      "2021-09-30 09:37:01,119 WARN conf.HiveConf: HiveConf of name hive.query.reexecution.strategies does not exist\n",
      "2021-09-30 09:37:01,119 WARN conf.HiveConf: HiveConf of name hive.server2.limit.connections.per.user.ipaddress does not exist\n",
      "2021-09-30 09:37:01,119 WARN conf.HiveConf: HiveConf of name hive.llap.mapjoin.memory.monitor.check.interval does not exist\n",
      "2021-09-30 09:37:01,119 WARN conf.HiveConf: HiveConf of name hive.optimize.shared.work does not exist\n",
      "2021-09-30 09:37:01,119 WARN conf.HiveConf: HiveConf of name hive.stats.estimate does not exist\n",
      "2021-09-30 09:37:01,119 WARN conf.HiveConf: HiveConf of name hive.llap.io.allocator.discard.method does not exist\n",
      "2021-09-30 09:37:01,119 WARN conf.HiveConf: HiveConf of name hive.tez.cartesian-product.enabled does not exist\n",
      "2021-09-30 09:37:01,119 WARN conf.HiveConf: HiveConf of name hive.notification.sequence.lock.max.retries does not exist\n",
      "2021-09-30 09:37:01,119 WARN conf.HiveConf: HiveConf of name hive.heap.memory.monitor.usage.threshold does not exist\n",
      "2021-09-30 09:37:01,120 WARN conf.HiveConf: HiveConf of name hive.privilege.synchronizer.interval does not exist\n",
      "2021-09-30 09:37:01,120 WARN conf.HiveConf: HiveConf of name hive.vectorized.adaptor.suppress.evaluate.exceptions does not exist\n",
      "2021-09-30 09:37:01,120 WARN conf.HiveConf: HiveConf of name hive.materializedview.rebuild.incremental does not exist\n",
      "2021-09-30 09:37:01,120 WARN conf.HiveConf: HiveConf of name hive.query.results.cache.max.entry.size does not exist\n",
      "2021-09-30 09:37:01,120 WARN conf.HiveConf: HiveConf of name hive.spark.stage.max.tasks does not exist\n",
      "2021-09-30 09:37:01,120 WARN conf.HiveConf: HiveConf of name hive.testing.short.logs does not exist\n",
      "2021-09-30 09:37:01,120 WARN conf.HiveConf: HiveConf of name hive.streaming.auto.flush.enabled does not exist\n",
      "2021-09-30 09:37:01,120 WARN conf.HiveConf: HiveConf of name hive.spark.explain.user does not exist\n",
      "2021-09-30 09:37:01,120 WARN conf.HiveConf: HiveConf of name hive.server2.operation.log.cleanup.delay does not exist\n",
      "2021-09-30 09:37:01,120 WARN conf.HiveConf: HiveConf of name hive.repl.dump.metadata.only does not exist\n",
      "2021-09-30 09:37:01,120 WARN conf.HiveConf: HiveConf of name hive.optimize.countdistinct does not exist\n",
      "2021-09-30 09:37:01,120 WARN conf.HiveConf: HiveConf of name hive.auto.convert.join.shuffle.max.size does not exist\n",
      "2021-09-30 09:37:01,120 WARN conf.HiveConf: HiveConf of name hive.llap.plugin.acl does not exist\n",
      "2021-09-30 09:37:01,120 WARN conf.HiveConf: HiveConf of name hive.metastore.schema.info.class does not exist\n",
      "2021-09-30 09:37:01,120 WARN conf.HiveConf: HiveConf of name hive.server2.tez.queue.access.check does not exist\n",
      "2021-09-30 09:37:01,121 WARN conf.HiveConf: HiveConf of name hive.llap.external.splits.temp.table.storage.format does not exist\n",
      "2021-09-30 09:37:01,121 WARN conf.HiveConf: HiveConf of name hive.llap.io.row.wrapper.enabled does not exist\n",
      "2021-09-30 09:37:01,121 WARN conf.HiveConf: HiveConf of name hive.constraint.notnull.enforce does not exist\n",
      "2021-09-30 09:37:01,121 WARN conf.HiveConf: HiveConf of name hive.cli.print.escape.crlf does not exist\n",
      "2021-09-30 09:37:01,121 WARN conf.HiveConf: HiveConf of name hive.trigger.validation.interval does not exist\n",
      "2021-09-30 09:37:01,121 WARN conf.HiveConf: HiveConf of name hive.server2.webui.cors.allowed.origins does not exist\n",
      "2021-09-30 09:37:01,121 WARN conf.HiveConf: HiveConf of name hive.server2.limit.connections.per.ipaddress does not exist\n",
      "2021-09-30 09:37:01,121 WARN conf.HiveConf: HiveConf of name hive.llap.external.splits.order.by.force.single.split does not exist\n",
      "2021-09-30 09:37:01,121 WARN conf.HiveConf: HiveConf of name hive.metastore.client.cache.stats.enabled does not exist\n",
      "2021-09-30 09:37:01,121 WARN conf.HiveConf: HiveConf of name hive.notification.event.poll.interval does not exist\n",
      "2021-09-30 09:37:01,121 WARN conf.HiveConf: HiveConf of name hive.transactional.concatenate.noblock does not exist\n",
      "2021-09-30 09:37:01,121 WARN conf.HiveConf: HiveConf of name hive.materializedview.rewriting.strategy does not exist\n",
      "2021-09-30 09:37:01,121 WARN conf.HiveConf: HiveConf of name hive.vectorized.if.expr.mode does not exist\n",
      "2021-09-30 09:37:01,121 WARN conf.HiveConf: HiveConf of name hive.exim.test.mode does not exist\n",
      "2021-09-30 09:37:01,122 WARN conf.HiveConf: HiveConf of name hive.query.results.cache.directory does not exist\n",
      "2021-09-30 09:37:01,122 WARN conf.HiveConf: HiveConf of name hive.query.results.cache.wait.for.pending.results does not exist\n",
      "2021-09-30 09:37:01,122 WARN conf.HiveConf: HiveConf of name hive.remove.orderby.in.subquery does not exist\n",
      "2021-09-30 09:37:01,122 WARN conf.HiveConf: HiveConf of name hive.tez.bmj.use.subcache does not exist\n",
      "2021-09-30 09:37:01,122 WARN conf.HiveConf: HiveConf of name hive.llap.io.vrb.queue.limit.min does not exist\n",
      "2021-09-30 09:37:01,122 WARN conf.HiveConf: HiveConf of name hive.server2.wm.pool.metrics does not exist\n",
      "2021-09-30 09:37:01,122 WARN conf.HiveConf: HiveConf of name hive.repl.add.raw.reserved.namespace does not exist\n",
      "2021-09-30 09:37:01,122 WARN conf.HiveConf: HiveConf of name hive.resource.use.hdfs.location does not exist\n",
      "2021-09-30 09:37:01,122 WARN conf.HiveConf: HiveConf of name hive.stats.num.nulls.estimate.percent does not exist\n",
      "2021-09-30 09:37:01,122 WARN conf.HiveConf: HiveConf of name hive.llap.io.acid does not exist\n",
      "2021-09-30 09:37:01,122 WARN conf.HiveConf: HiveConf of name hive.llap.zk.sm.session.timeout does not exist\n",
      "2021-09-30 09:37:01,122 WARN conf.HiveConf: HiveConf of name hive.vectorized.ptf.max.memory.buffering.batch.count does not exist\n",
      "2021-09-30 09:37:01,122 WARN conf.HiveConf: HiveConf of name hive.llap.task.scheduler.am.registry does not exist\n",
      "2021-09-30 09:37:01,122 WARN conf.HiveConf: HiveConf of name hive.druid.overlord.address.default does not exist\n",
      "2021-09-30 09:37:01,122 WARN conf.HiveConf: HiveConf of name hive.optimize.remove.sq_count_check does not exist\n",
      "2021-09-30 09:37:01,122 WARN conf.HiveConf: HiveConf of name hive.server2.webui.enable.cors does not exist\n",
      "2021-09-30 09:37:01,122 WARN conf.HiveConf: HiveConf of name hive.vectorized.row.serde.inputformat.excludes does not exist\n",
      "2021-09-30 09:37:01,122 WARN conf.HiveConf: HiveConf of name hive.query.reexecution.stats.cache.size does not exist\n",
      "2021-09-30 09:37:01,122 WARN conf.HiveConf: HiveConf of name hive.combine.equivalent.work.optimization does not exist\n",
      "2021-09-30 09:37:01,122 WARN conf.HiveConf: HiveConf of name hive.lock.query.string.max.length does not exist\n",
      "2021-09-30 09:37:01,122 WARN conf.HiveConf: HiveConf of name hive.llap.io.track.cache.usage does not exist\n",
      "2021-09-30 09:37:01,122 WARN conf.HiveConf: HiveConf of name hive.use.orc.codec.pool does not exist\n",
      "2021-09-30 09:37:01,123 WARN conf.HiveConf: HiveConf of name hive.query.results.cache.max.size does not exist\n",
      "2021-09-30 09:37:01,123 WARN conf.HiveConf: HiveConf of name hive.repl.bootstrap.dump.open.txn.timeout does not exist\n",
      "2021-09-30 09:37:08,930 WARN conf.HiveConf: HiveConf of name hive.metastore.wm.default.pool.size does not exist\n",
      "2021-09-30 09:37:08,930 WARN conf.HiveConf: HiveConf of name hive.llap.task.scheduler.preempt.independent does not exist\n",
      "2021-09-30 09:37:08,930 WARN conf.HiveConf: HiveConf of name hive.llap.output.format.arrow does not exist\n",
      "2021-09-30 09:37:08,930 WARN conf.HiveConf: HiveConf of name hive.tez.llap.min.reducer.per.executor does not exist\n",
      "2021-09-30 09:37:08,930 WARN conf.HiveConf: HiveConf of name hive.arrow.root.allocator.limit does not exist\n",
      "2021-09-30 09:37:08,930 WARN conf.HiveConf: HiveConf of name hive.vectorized.use.checked.expressions does not exist\n",
      "2021-09-30 09:37:08,930 WARN conf.HiveConf: HiveConf of name hive.tez.dynamic.semijoin.reduction.for.mapjoin does not exist\n",
      "2021-09-30 09:37:08,930 WARN conf.HiveConf: HiveConf of name hive.vectorized.complex.types.enabled does not exist\n",
      "2021-09-30 09:37:08,930 WARN conf.HiveConf: HiveConf of name hive.server2.wm.worker.threads does not exist\n",
      "2021-09-30 09:37:08,930 WARN conf.HiveConf: HiveConf of name hive.repl.partitions.dump.parallelism does not exist\n",
      "2021-09-30 09:37:08,930 WARN conf.HiveConf: HiveConf of name hive.metastore.uri.selection does not exist\n",
      "2021-09-30 09:37:08,930 WARN conf.HiveConf: HiveConf of name hive.strict.checks.no.partition.filter does not exist\n",
      "2021-09-30 09:37:08,930 WARN conf.HiveConf: HiveConf of name hive.tez.dynamic.semijoin.reduction.for.dpp.factor does not exist\n",
      "2021-09-30 09:37:08,930 WARN conf.HiveConf: HiveConf of name hive.stats.filter.in.min.ratio does not exist\n",
      "2021-09-30 09:37:08,930 WARN conf.HiveConf: HiveConf of name hive.metastore.client.cache.initial.capacity does not exist\n",
      "2021-09-30 09:37:08,930 WARN conf.HiveConf: HiveConf of name hive.stats.ndv.estimate.percent does not exist\n",
      "2021-09-30 09:37:08,930 WARN conf.HiveConf: HiveConf of name hive.server2.webui.cors.allowed.methods does not exist\n",
      "2021-09-30 09:37:08,930 WARN conf.HiveConf: HiveConf of name hive.optimize.joinreducededuplication does not exist\n",
      "2021-09-30 09:37:08,930 WARN conf.HiveConf: HiveConf of name hive.metastore.client.cache.enabled does not exist\n",
      "2021-09-30 09:37:08,930 WARN conf.HiveConf: HiveConf of name hive.stats.fetch.bitvector does not exist\n",
      "2021-09-30 09:37:08,930 WARN conf.HiveConf: HiveConf of name hive.disable.unsafe.external.table.operations does not exist\n",
      "2021-09-30 09:37:08,930 WARN conf.HiveConf: HiveConf of name hive.materializedview.rewriting.incremental does not exist\n",
      "2021-09-30 09:37:08,930 WARN conf.HiveConf: HiveConf of name hive.server2.materializedviews.registry.impl does not exist\n",
      "2021-09-30 09:37:08,930 WARN conf.HiveConf: HiveConf of name hive.metastore.event.db.notification.api.auth does not exist\n",
      "2021-09-30 09:37:08,930 WARN conf.HiveConf: HiveConf of name hive.exec.orc.delta.streaming.optimizations.enabled does not exist\n",
      "2021-09-30 09:37:08,931 WARN conf.HiveConf: HiveConf of name hive.stats.ndv.algo does not exist\n",
      "2021-09-30 09:37:08,931 WARN conf.HiveConf: HiveConf of name hive.spark.job.max.tasks does not exist\n",
      "2021-09-30 09:37:08,931 WARN conf.HiveConf: HiveConf of name hive.msck.repair.batch.max.retries does not exist\n",
      "2021-09-30 09:37:08,931 WARN conf.HiveConf: HiveConf of name hive.prewarm.spark.timeout does not exist\n",
      "2021-09-30 09:37:08,931 WARN conf.HiveConf: HiveConf of name hive.optimize.update.table.properties.from.serde.list does not exist\n",
      "2021-09-30 09:37:08,931 WARN conf.HiveConf: HiveConf of name hive.llap.plugin.client.num.threads does not exist\n",
      "2021-09-30 09:37:08,931 WARN conf.HiveConf: HiveConf of name hive.test.bucketcodec.version does not exist\n",
      "2021-09-30 09:37:08,931 WARN conf.HiveConf: HiveConf of name hive.query.reexecution.enabled does not exist\n",
      "2021-09-30 09:37:08,931 WARN conf.HiveConf: HiveConf of name hive.materializedview.rewriting.time.window does not exist\n",
      "2021-09-30 09:37:08,931 WARN conf.HiveConf: HiveConf of name hive.query.reexecution.stats.cache.batch.size does not exist\n",
      "2021-09-30 09:37:08,931 WARN conf.HiveConf: HiveConf of name hive.server2.webui.cors.allowed.headers does not exist\n",
      "2021-09-30 09:37:08,931 WARN conf.HiveConf: HiveConf of name hive.join.inner.residual does not exist\n",
      "2021-09-30 09:37:08,931 WARN conf.HiveConf: HiveConf of name hive.server2.active.passive.ha.enable does not exist\n",
      "2021-09-30 09:37:08,931 WARN conf.HiveConf: HiveConf of name hive.llap.io.trace.always.dump does not exist\n",
      "2021-09-30 09:37:08,931 WARN conf.HiveConf: HiveConf of name hive.query.reexecution.stats.persist.scope does not exist\n",
      "2021-09-30 09:37:08,931 WARN conf.HiveConf: HiveConf of name hive.mm.allow.originals does not exist\n",
      "2021-09-30 09:37:08,931 WARN conf.HiveConf: HiveConf of name hive.compactor.compact.insert.only does not exist\n",
      "2021-09-30 09:37:08,931 WARN conf.HiveConf: HiveConf of name hive.txn.xlock.iow does not exist\n",
      "2021-09-30 09:37:08,931 WARN conf.HiveConf: HiveConf of name hive.spark.rsc.conf.list does not exist\n",
      "2021-09-30 09:37:08,931 WARN conf.HiveConf: HiveConf of name hive.stats.jdbc.timeout does not exist\n",
      "2021-09-30 09:37:08,931 WARN conf.HiveConf: HiveConf of name hive.llap.cache.defaultfs.only.native.fileid does not exist\n",
      "2021-09-30 09:37:08,931 WARN conf.HiveConf: HiveConf of name hive.spark.optimize.shuffle.serde does not exist\n",
      "2021-09-30 09:37:08,931 WARN conf.HiveConf: HiveConf of name hive.testing.remove.logs does not exist\n",
      "2021-09-30 09:37:08,931 WARN conf.HiveConf: HiveConf of name hive.distcp.privileged.doAs does not exist\n",
      "2021-09-30 09:37:08,931 WARN conf.HiveConf: HiveConf of name hive.strict.checks.orderby.no.limit does not exist\n",
      "2021-09-30 09:37:08,931 WARN conf.HiveConf: HiveConf of name hive.metastore.client.cache.expiry.time does not exist\n",
      "2021-09-30 09:37:08,931 WARN conf.HiveConf: HiveConf of name hive.llap.io.allocator.defrag.headroom does not exist\n",
      "2021-09-30 09:37:08,931 WARN conf.HiveConf: HiveConf of name hive.notification.event.consumers does not exist\n",
      "2021-09-30 09:37:08,931 WARN conf.HiveConf: HiveConf of name hive.vectorized.input.format.supports.enabled does not exist\n",
      "2021-09-30 09:37:08,931 WARN conf.HiveConf: HiveConf of name hive.metastore.client.cache.max.capacity does not exist\n",
      "2021-09-30 09:37:08,931 WARN conf.HiveConf: HiveConf of name hive.repl.dumpdir.clean.freq does not exist\n",
      "2021-09-30 09:37:08,931 WARN conf.HiveConf: HiveConf of name hive.spark.use.ts.stats.for.mapjoin does not exist\n",
      "2021-09-30 09:37:08,931 WARN conf.HiveConf: HiveConf of name hive.repl.dump.include.acid.tables does not exist\n",
      "2021-09-30 09:37:08,931 WARN conf.HiveConf: HiveConf of name hive.server2.webui.use.pam does not exist\n",
      "2021-09-30 09:37:08,931 WARN conf.HiveConf: HiveConf of name hive.query.reexecution.max.count does not exist\n",
      "2021-09-30 09:37:08,931 WARN conf.HiveConf: HiveConf of name hive.llap.io.share.object.pools does not exist\n",
      "2021-09-30 09:37:08,931 WARN conf.HiveConf: HiveConf of name hive.optimize.update.table.properties.from.serde does not exist\n",
      "2021-09-30 09:37:08,931 WARN conf.HiveConf: HiveConf of name hive.service.metrics.codahale.reporter.classes does not exist\n",
      "2021-09-30 09:37:08,931 WARN conf.HiveConf: HiveConf of name hive.tez.session.events.print.summary does not exist\n",
      "2021-09-30 09:37:08,931 WARN conf.HiveConf: HiveConf of name hive.llap.io.vrb.queue.limit.base does not exist\n",
      "2021-09-30 09:37:08,931 WARN conf.HiveConf: HiveConf of name hive.mm.avoid.s3.globstatus does not exist\n",
      "2021-09-30 09:37:08,931 WARN conf.HiveConf: HiveConf of name hive.server2.thrift.bind.port does not exist\n",
      "2021-09-30 09:37:08,931 WARN conf.HiveConf: HiveConf of name hive.repl.replica.functions.root.dir does not exist\n",
      "2021-09-30 09:37:08,931 WARN conf.HiveConf: HiveConf of name hive.query.results.cache.max.entry.lifetime does not exist\n",
      "2021-09-30 09:37:08,931 WARN conf.HiveConf: HiveConf of name hive.server2.limit.connections.per.user does not exist\n",
      "2021-09-30 09:37:08,931 WARN conf.HiveConf: HiveConf of name hive.server2.thrift.http.compression.enabled does not exist\n",
      "2021-09-30 09:37:08,931 WARN conf.HiveConf: HiveConf of name hive.vectorized.execution.ptf.enabled does not exist\n",
      "2021-09-30 09:37:08,931 WARN conf.HiveConf: HiveConf of name hive.optimize.shared.work.extended does not exist\n",
      "2021-09-30 09:37:08,931 WARN conf.HiveConf: HiveConf of name hive.vectorized.row.identifier.enabled does not exist\n",
      "2021-09-30 09:37:08,931 WARN conf.HiveConf: HiveConf of name hive.query.reexecution.always.collect.operator.stats does not exist\n",
      "2021-09-30 09:37:08,931 WARN conf.HiveConf: HiveConf of name hive.repl.dumpdir.ttl does not exist\n",
      "2021-09-30 09:37:08,931 WARN conf.HiveConf: HiveConf of name hive.local.time.zone does not exist\n",
      "2021-09-30 09:37:08,931 WARN conf.HiveConf: HiveConf of name hive.server2.tez.wm.am.registry.timeout does not exist\n",
      "2021-09-30 09:37:08,932 WARN conf.HiveConf: HiveConf of name hive.server2.active.passive.ha.registry.namespace does not exist\n",
      "2021-09-30 09:37:08,932 WARN conf.HiveConf: HiveConf of name hive.create.as.insert.only does not exist\n",
      "2021-09-30 09:37:08,932 WARN conf.HiveConf: HiveConf of name hive.llap.mapjoin.memory.oversubscribe.factor does not exist\n",
      "2021-09-30 09:37:08,932 WARN conf.HiveConf: HiveConf of name hive.arrow.batch.size does not exist\n",
      "2021-09-30 09:37:08,932 WARN conf.HiveConf: HiveConf of name hive.notification.sequence.lock.retry.sleep.interval does not exist\n",
      "2021-09-30 09:37:08,932 WARN conf.HiveConf: HiveConf of name hive.repl.approx.max.load.tasks does not exist\n",
      "2021-09-30 09:37:08,932 WARN conf.HiveConf: HiveConf of name hive.query.results.cache.enabled does not exist\n",
      "2021-09-30 09:37:08,932 WARN conf.HiveConf: HiveConf of name hive.legacy.schema.for.all.serdes does not exist\n",
      "2021-09-30 09:37:08,932 WARN conf.HiveConf: HiveConf of name hive.tez.dag.status.check.interval does not exist\n",
      "2021-09-30 09:37:08,932 WARN conf.HiveConf: HiveConf of name hive.druid.bitmap.type does not exist\n",
      "2021-09-30 09:37:08,932 WARN conf.HiveConf: HiveConf of name hive.spark.dynamic.partition.pruning.map.join.only does not exist\n",
      "2021-09-30 09:37:08,932 WARN conf.HiveConf: HiveConf of name hive.llap.memory.oversubscription.max.executors.per.query does not exist\n",
      "2021-09-30 09:37:08,932 WARN conf.HiveConf: HiveConf of name hive.llap.io.trace.size does not exist\n",
      "2021-09-30 09:37:08,932 WARN conf.HiveConf: HiveConf of name hive.llap.plugin.rpc.num.handlers does not exist\n",
      "2021-09-30 09:37:08,932 WARN conf.HiveConf: HiveConf of name hive.server2.wm.allow.any.pool.via.jdbc does not exist\n",
      "2021-09-30 09:37:08,932 WARN conf.HiveConf: HiveConf of name hive.vectorized.groupby.complex.types.enabled does not exist\n",
      "2021-09-30 09:37:08,932 WARN conf.HiveConf: HiveConf of name hive.avro.timestamp.skip.conversion does not exist\n",
      "2021-09-30 09:37:08,932 WARN conf.HiveConf: HiveConf of name hive.query.results.cache.nontransactional.tables.enabled does not exist\n",
      "2021-09-30 09:37:08,932 WARN conf.HiveConf: HiveConf of name hive.stats.correlated.multi.key.joins does not exist\n",
      "2021-09-30 09:37:08,932 WARN conf.HiveConf: HiveConf of name hive.metastore.db.type does not exist\n",
      "2021-09-30 09:37:08,932 WARN conf.HiveConf: HiveConf of name hive.streaming.auto.flush.check.interval.size does not exist\n",
      "2021-09-30 09:37:08,932 WARN conf.HiveConf: HiveConf of name hive.zookeeper.connection.timeout does not exist\n",
      "2021-09-30 09:37:08,932 WARN conf.HiveConf: HiveConf of name hive.query.reexecution.strategies does not exist\n",
      "2021-09-30 09:37:08,932 WARN conf.HiveConf: HiveConf of name hive.server2.limit.connections.per.user.ipaddress does not exist\n",
      "2021-09-30 09:37:08,932 WARN conf.HiveConf: HiveConf of name hive.llap.mapjoin.memory.monitor.check.interval does not exist\n",
      "2021-09-30 09:37:08,932 WARN conf.HiveConf: HiveConf of name hive.optimize.shared.work does not exist\n",
      "2021-09-30 09:37:08,932 WARN conf.HiveConf: HiveConf of name hive.stats.estimate does not exist\n",
      "2021-09-30 09:37:08,932 WARN conf.HiveConf: HiveConf of name hive.llap.io.allocator.discard.method does not exist\n",
      "2021-09-30 09:37:08,932 WARN conf.HiveConf: HiveConf of name hive.tez.cartesian-product.enabled does not exist\n",
      "2021-09-30 09:37:08,932 WARN conf.HiveConf: HiveConf of name hive.notification.sequence.lock.max.retries does not exist\n",
      "2021-09-30 09:37:08,932 WARN conf.HiveConf: HiveConf of name hive.heap.memory.monitor.usage.threshold does not exist\n",
      "2021-09-30 09:37:08,932 WARN conf.HiveConf: HiveConf of name hive.privilege.synchronizer.interval does not exist\n",
      "2021-09-30 09:37:08,932 WARN conf.HiveConf: HiveConf of name hive.vectorized.adaptor.suppress.evaluate.exceptions does not exist\n",
      "2021-09-30 09:37:08,932 WARN conf.HiveConf: HiveConf of name hive.materializedview.rebuild.incremental does not exist\n",
      "2021-09-30 09:37:08,932 WARN conf.HiveConf: HiveConf of name hive.query.results.cache.max.entry.size does not exist\n",
      "2021-09-30 09:37:08,932 WARN conf.HiveConf: HiveConf of name hive.spark.stage.max.tasks does not exist\n",
      "2021-09-30 09:37:08,932 WARN conf.HiveConf: HiveConf of name hive.testing.short.logs does not exist\n",
      "2021-09-30 09:37:08,932 WARN conf.HiveConf: HiveConf of name hive.streaming.auto.flush.enabled does not exist\n",
      "2021-09-30 09:37:08,932 WARN conf.HiveConf: HiveConf of name hive.spark.explain.user does not exist\n",
      "2021-09-30 09:37:08,933 WARN conf.HiveConf: HiveConf of name hive.server2.operation.log.cleanup.delay does not exist\n",
      "2021-09-30 09:37:08,933 WARN conf.HiveConf: HiveConf of name hive.repl.dump.metadata.only does not exist\n",
      "2021-09-30 09:37:08,933 WARN conf.HiveConf: HiveConf of name hive.optimize.countdistinct does not exist\n",
      "2021-09-30 09:37:08,933 WARN conf.HiveConf: HiveConf of name hive.auto.convert.join.shuffle.max.size does not exist\n",
      "2021-09-30 09:37:08,933 WARN conf.HiveConf: HiveConf of name hive.llap.plugin.acl does not exist\n",
      "2021-09-30 09:37:08,933 WARN conf.HiveConf: HiveConf of name hive.metastore.schema.info.class does not exist\n",
      "2021-09-30 09:37:08,933 WARN conf.HiveConf: HiveConf of name hive.server2.tez.queue.access.check does not exist\n",
      "2021-09-30 09:37:08,933 WARN conf.HiveConf: HiveConf of name hive.llap.external.splits.temp.table.storage.format does not exist\n",
      "2021-09-30 09:37:08,933 WARN conf.HiveConf: HiveConf of name hive.llap.io.row.wrapper.enabled does not exist\n",
      "2021-09-30 09:37:08,933 WARN conf.HiveConf: HiveConf of name hive.constraint.notnull.enforce does not exist\n",
      "2021-09-30 09:37:08,933 WARN conf.HiveConf: HiveConf of name hive.cli.print.escape.crlf does not exist\n",
      "2021-09-30 09:37:08,933 WARN conf.HiveConf: HiveConf of name hive.trigger.validation.interval does not exist\n",
      "2021-09-30 09:37:08,933 WARN conf.HiveConf: HiveConf of name hive.server2.webui.cors.allowed.origins does not exist\n",
      "2021-09-30 09:37:08,933 WARN conf.HiveConf: HiveConf of name hive.server2.limit.connections.per.ipaddress does not exist\n",
      "2021-09-30 09:37:08,933 WARN conf.HiveConf: HiveConf of name hive.llap.external.splits.order.by.force.single.split does not exist\n",
      "2021-09-30 09:37:08,933 WARN conf.HiveConf: HiveConf of name hive.metastore.client.cache.stats.enabled does not exist\n",
      "2021-09-30 09:37:08,933 WARN conf.HiveConf: HiveConf of name hive.notification.event.poll.interval does not exist\n",
      "2021-09-30 09:37:08,933 WARN conf.HiveConf: HiveConf of name hive.transactional.concatenate.noblock does not exist\n",
      "2021-09-30 09:37:08,933 WARN conf.HiveConf: HiveConf of name hive.materializedview.rewriting.strategy does not exist\n",
      "2021-09-30 09:37:08,933 WARN conf.HiveConf: HiveConf of name hive.vectorized.if.expr.mode does not exist\n",
      "2021-09-30 09:37:08,933 WARN conf.HiveConf: HiveConf of name hive.exim.test.mode does not exist\n",
      "2021-09-30 09:37:08,933 WARN conf.HiveConf: HiveConf of name hive.query.results.cache.directory does not exist\n",
      "2021-09-30 09:37:08,933 WARN conf.HiveConf: HiveConf of name hive.query.results.cache.wait.for.pending.results does not exist\n",
      "2021-09-30 09:37:08,933 WARN conf.HiveConf: HiveConf of name hive.remove.orderby.in.subquery does not exist\n",
      "2021-09-30 09:37:08,933 WARN conf.HiveConf: HiveConf of name hive.tez.bmj.use.subcache does not exist\n",
      "2021-09-30 09:37:08,933 WARN conf.HiveConf: HiveConf of name hive.llap.io.vrb.queue.limit.min does not exist\n",
      "2021-09-30 09:37:08,933 WARN conf.HiveConf: HiveConf of name hive.server2.wm.pool.metrics does not exist\n",
      "2021-09-30 09:37:08,933 WARN conf.HiveConf: HiveConf of name hive.repl.add.raw.reserved.namespace does not exist\n",
      "2021-09-30 09:37:08,933 WARN conf.HiveConf: HiveConf of name hive.resource.use.hdfs.location does not exist\n",
      "2021-09-30 09:37:08,933 WARN conf.HiveConf: HiveConf of name hive.stats.num.nulls.estimate.percent does not exist\n",
      "2021-09-30 09:37:08,933 WARN conf.HiveConf: HiveConf of name hive.llap.io.acid does not exist\n",
      "2021-09-30 09:37:08,933 WARN conf.HiveConf: HiveConf of name hive.llap.zk.sm.session.timeout does not exist\n",
      "2021-09-30 09:37:08,933 WARN conf.HiveConf: HiveConf of name hive.vectorized.ptf.max.memory.buffering.batch.count does not exist\n",
      "2021-09-30 09:37:08,933 WARN conf.HiveConf: HiveConf of name hive.llap.task.scheduler.am.registry does not exist\n",
      "2021-09-30 09:37:08,933 WARN conf.HiveConf: HiveConf of name hive.druid.overlord.address.default does not exist\n",
      "2021-09-30 09:37:08,933 WARN conf.HiveConf: HiveConf of name hive.optimize.remove.sq_count_check does not exist\n",
      "2021-09-30 09:37:08,934 WARN conf.HiveConf: HiveConf of name hive.server2.webui.enable.cors does not exist\n",
      "2021-09-30 09:37:08,934 WARN conf.HiveConf: HiveConf of name hive.stats.retries.wait does not exist\n",
      "2021-09-30 09:37:08,934 WARN conf.HiveConf: HiveConf of name hive.vectorized.row.serde.inputformat.excludes does not exist\n",
      "2021-09-30 09:37:08,934 WARN conf.HiveConf: HiveConf of name hive.query.reexecution.stats.cache.size does not exist\n",
      "2021-09-30 09:37:08,934 WARN conf.HiveConf: HiveConf of name hive.combine.equivalent.work.optimization does not exist\n",
      "2021-09-30 09:37:08,934 WARN conf.HiveConf: HiveConf of name hive.lock.query.string.max.length does not exist\n",
      "2021-09-30 09:37:08,934 WARN conf.HiveConf: HiveConf of name hive.llap.io.track.cache.usage does not exist\n",
      "2021-09-30 09:37:08,934 WARN conf.HiveConf: HiveConf of name hive.use.orc.codec.pool does not exist\n",
      "2021-09-30 09:37:08,934 WARN conf.HiveConf: HiveConf of name hive.query.results.cache.max.size does not exist\n",
      "2021-09-30 09:37:08,934 WARN conf.HiveConf: HiveConf of name hive.repl.bootstrap.dump.open.txn.timeout does not exist\n",
      "2021-09-30 09:37:11,167 WARN util.DriverDataSource: Registered driver with driverClassName=org.apache.derby.jdbc.EmbeddedDriver was not found, trying direct instantiation.\n",
      "2021-09-30 09:37:13,311 WARN util.DriverDataSource: Registered driver with driverClassName=org.apache.derby.jdbc.EmbeddedDriver was not found, trying direct instantiation.\n",
      "2021-09-30 09:37:14,161 WARN conf.HiveConf: HiveConf of name hive.metastore.wm.default.pool.size does not exist\n",
      "2021-09-30 09:37:14,161 WARN conf.HiveConf: HiveConf of name hive.llap.task.scheduler.preempt.independent does not exist\n",
      "2021-09-30 09:37:14,161 WARN conf.HiveConf: HiveConf of name hive.llap.output.format.arrow does not exist\n",
      "2021-09-30 09:37:14,161 WARN conf.HiveConf: HiveConf of name hive.tez.llap.min.reducer.per.executor does not exist\n",
      "2021-09-30 09:37:14,161 WARN conf.HiveConf: HiveConf of name hive.arrow.root.allocator.limit does not exist\n",
      "2021-09-30 09:37:14,161 WARN conf.HiveConf: HiveConf of name hive.vectorized.use.checked.expressions does not exist\n",
      "2021-09-30 09:37:14,161 WARN conf.HiveConf: HiveConf of name hive.tez.dynamic.semijoin.reduction.for.mapjoin does not exist\n",
      "2021-09-30 09:37:14,161 WARN conf.HiveConf: HiveConf of name hive.vectorized.complex.types.enabled does not exist\n",
      "2021-09-30 09:37:14,161 WARN conf.HiveConf: HiveConf of name hive.server2.wm.worker.threads does not exist\n",
      "2021-09-30 09:37:14,161 WARN conf.HiveConf: HiveConf of name hive.repl.partitions.dump.parallelism does not exist\n",
      "2021-09-30 09:37:14,161 WARN conf.HiveConf: HiveConf of name hive.metastore.uri.selection does not exist\n",
      "2021-09-30 09:37:14,161 WARN conf.HiveConf: HiveConf of name hive.strict.checks.no.partition.filter does not exist\n",
      "2021-09-30 09:37:14,161 WARN conf.HiveConf: HiveConf of name hive.tez.dynamic.semijoin.reduction.for.dpp.factor does not exist\n",
      "2021-09-30 09:37:14,161 WARN conf.HiveConf: HiveConf of name hive.stats.filter.in.min.ratio does not exist\n",
      "2021-09-30 09:37:14,161 WARN conf.HiveConf: HiveConf of name hive.metastore.client.cache.initial.capacity does not exist\n",
      "2021-09-30 09:37:14,161 WARN conf.HiveConf: HiveConf of name hive.stats.ndv.estimate.percent does not exist\n",
      "2021-09-30 09:37:14,161 WARN conf.HiveConf: HiveConf of name hive.server2.webui.cors.allowed.methods does not exist\n",
      "2021-09-30 09:37:14,161 WARN conf.HiveConf: HiveConf of name hive.optimize.joinreducededuplication does not exist\n",
      "2021-09-30 09:37:14,162 WARN conf.HiveConf: HiveConf of name hive.metastore.client.cache.enabled does not exist\n",
      "2021-09-30 09:37:14,162 WARN conf.HiveConf: HiveConf of name hive.stats.fetch.bitvector does not exist\n",
      "2021-09-30 09:37:14,162 WARN conf.HiveConf: HiveConf of name hive.disable.unsafe.external.table.operations does not exist\n",
      "2021-09-30 09:37:14,162 WARN conf.HiveConf: HiveConf of name hive.materializedview.rewriting.incremental does not exist\n",
      "2021-09-30 09:37:14,162 WARN conf.HiveConf: HiveConf of name hive.server2.materializedviews.registry.impl does not exist\n",
      "2021-09-30 09:37:14,162 WARN conf.HiveConf: HiveConf of name hive.metastore.event.db.notification.api.auth does not exist\n",
      "2021-09-30 09:37:14,162 WARN conf.HiveConf: HiveConf of name hive.exec.orc.delta.streaming.optimizations.enabled does not exist\n",
      "2021-09-30 09:37:14,162 WARN conf.HiveConf: HiveConf of name hive.stats.ndv.algo does not exist\n",
      "2021-09-30 09:37:14,162 WARN conf.HiveConf: HiveConf of name hive.spark.job.max.tasks does not exist\n",
      "2021-09-30 09:37:14,162 WARN conf.HiveConf: HiveConf of name hive.msck.repair.batch.max.retries does not exist\n",
      "2021-09-30 09:37:14,162 WARN conf.HiveConf: HiveConf of name hive.prewarm.spark.timeout does not exist\n",
      "2021-09-30 09:37:14,162 WARN conf.HiveConf: HiveConf of name hive.optimize.update.table.properties.from.serde.list does not exist\n",
      "2021-09-30 09:37:14,162 WARN conf.HiveConf: HiveConf of name hive.llap.plugin.client.num.threads does not exist\n",
      "2021-09-30 09:37:14,162 WARN conf.HiveConf: HiveConf of name hive.test.bucketcodec.version does not exist\n",
      "2021-09-30 09:37:14,162 WARN conf.HiveConf: HiveConf of name hive.query.reexecution.enabled does not exist\n",
      "2021-09-30 09:37:14,162 WARN conf.HiveConf: HiveConf of name hive.materializedview.rewriting.time.window does not exist\n",
      "2021-09-30 09:37:14,162 WARN conf.HiveConf: HiveConf of name hive.query.reexecution.stats.cache.batch.size does not exist\n",
      "2021-09-30 09:37:14,162 WARN conf.HiveConf: HiveConf of name hive.server2.webui.cors.allowed.headers does not exist\n",
      "2021-09-30 09:37:14,162 WARN conf.HiveConf: HiveConf of name hive.join.inner.residual does not exist\n",
      "2021-09-30 09:37:14,162 WARN conf.HiveConf: HiveConf of name hive.server2.active.passive.ha.enable does not exist\n",
      "2021-09-30 09:37:14,162 WARN conf.HiveConf: HiveConf of name hive.llap.io.trace.always.dump does not exist\n",
      "2021-09-30 09:37:14,162 WARN conf.HiveConf: HiveConf of name hive.query.reexecution.stats.persist.scope does not exist\n",
      "2021-09-30 09:37:14,162 WARN conf.HiveConf: HiveConf of name hive.mm.allow.originals does not exist\n",
      "2021-09-30 09:37:14,162 WARN conf.HiveConf: HiveConf of name hive.compactor.compact.insert.only does not exist\n",
      "2021-09-30 09:37:14,162 WARN conf.HiveConf: HiveConf of name hive.txn.xlock.iow does not exist\n",
      "2021-09-30 09:37:14,162 WARN conf.HiveConf: HiveConf of name hive.spark.rsc.conf.list does not exist\n",
      "2021-09-30 09:37:14,162 WARN conf.HiveConf: HiveConf of name hive.llap.cache.defaultfs.only.native.fileid does not exist\n",
      "2021-09-30 09:37:14,162 WARN conf.HiveConf: HiveConf of name hive.spark.optimize.shuffle.serde does not exist\n",
      "2021-09-30 09:37:14,162 WARN conf.HiveConf: HiveConf of name hive.testing.remove.logs does not exist\n",
      "2021-09-30 09:37:14,162 WARN conf.HiveConf: HiveConf of name hive.distcp.privileged.doAs does not exist\n",
      "2021-09-30 09:37:14,163 WARN conf.HiveConf: HiveConf of name hive.strict.checks.orderby.no.limit does not exist\n",
      "2021-09-30 09:37:14,163 WARN conf.HiveConf: HiveConf of name hive.metastore.client.cache.expiry.time does not exist\n",
      "2021-09-30 09:37:14,163 WARN conf.HiveConf: HiveConf of name hive.llap.io.allocator.defrag.headroom does not exist\n",
      "2021-09-30 09:37:14,163 WARN conf.HiveConf: HiveConf of name hive.notification.event.consumers does not exist\n",
      "2021-09-30 09:37:14,163 WARN conf.HiveConf: HiveConf of name hive.vectorized.input.format.supports.enabled does not exist\n",
      "2021-09-30 09:37:14,163 WARN conf.HiveConf: HiveConf of name hive.metastore.client.cache.max.capacity does not exist\n",
      "2021-09-30 09:37:14,163 WARN conf.HiveConf: HiveConf of name hive.repl.dumpdir.clean.freq does not exist\n",
      "2021-09-30 09:37:14,163 WARN conf.HiveConf: HiveConf of name hive.spark.use.ts.stats.for.mapjoin does not exist\n",
      "2021-09-30 09:37:14,163 WARN conf.HiveConf: HiveConf of name hive.repl.dump.include.acid.tables does not exist\n",
      "2021-09-30 09:37:14,163 WARN conf.HiveConf: HiveConf of name hive.server2.webui.use.pam does not exist\n",
      "2021-09-30 09:37:14,163 WARN conf.HiveConf: HiveConf of name hive.query.reexecution.max.count does not exist\n",
      "2021-09-30 09:37:14,163 WARN conf.HiveConf: HiveConf of name hive.llap.io.share.object.pools does not exist\n",
      "2021-09-30 09:37:14,163 WARN conf.HiveConf: HiveConf of name hive.optimize.update.table.properties.from.serde does not exist\n",
      "2021-09-30 09:37:14,163 WARN conf.HiveConf: HiveConf of name hive.service.metrics.codahale.reporter.classes does not exist\n",
      "2021-09-30 09:37:14,163 WARN conf.HiveConf: HiveConf of name hive.tez.session.events.print.summary does not exist\n",
      "2021-09-30 09:37:14,163 WARN conf.HiveConf: HiveConf of name hive.llap.io.vrb.queue.limit.base does not exist\n",
      "2021-09-30 09:37:14,163 WARN conf.HiveConf: HiveConf of name hive.mm.avoid.s3.globstatus does not exist\n",
      "2021-09-30 09:37:14,163 WARN conf.HiveConf: HiveConf of name hive.server2.thrift.bind.port does not exist\n",
      "2021-09-30 09:37:14,163 WARN conf.HiveConf: HiveConf of name hive.repl.replica.functions.root.dir does not exist\n",
      "2021-09-30 09:37:14,163 WARN conf.HiveConf: HiveConf of name hive.query.results.cache.max.entry.lifetime does not exist\n",
      "2021-09-30 09:37:14,163 WARN conf.HiveConf: HiveConf of name hive.server2.limit.connections.per.user does not exist\n",
      "2021-09-30 09:37:14,163 WARN conf.HiveConf: HiveConf of name hive.server2.thrift.http.compression.enabled does not exist\n",
      "2021-09-30 09:37:14,163 WARN conf.HiveConf: HiveConf of name hive.vectorized.execution.ptf.enabled does not exist\n",
      "2021-09-30 09:37:14,163 WARN conf.HiveConf: HiveConf of name hive.optimize.shared.work.extended does not exist\n",
      "2021-09-30 09:37:14,163 WARN conf.HiveConf: HiveConf of name hive.vectorized.row.identifier.enabled does not exist\n",
      "2021-09-30 09:37:14,163 WARN conf.HiveConf: HiveConf of name hive.query.reexecution.always.collect.operator.stats does not exist\n",
      "2021-09-30 09:37:14,163 WARN conf.HiveConf: HiveConf of name hive.repl.dumpdir.ttl does not exist\n",
      "2021-09-30 09:37:14,163 WARN conf.HiveConf: HiveConf of name hive.local.time.zone does not exist\n",
      "2021-09-30 09:37:14,163 WARN conf.HiveConf: HiveConf of name hive.server2.tez.wm.am.registry.timeout does not exist\n",
      "2021-09-30 09:37:14,163 WARN conf.HiveConf: HiveConf of name hive.server2.active.passive.ha.registry.namespace does not exist\n",
      "2021-09-30 09:37:14,163 WARN conf.HiveConf: HiveConf of name hive.create.as.insert.only does not exist\n",
      "2021-09-30 09:37:14,163 WARN conf.HiveConf: HiveConf of name hive.llap.mapjoin.memory.oversubscribe.factor does not exist\n",
      "2021-09-30 09:37:14,163 WARN conf.HiveConf: HiveConf of name hive.arrow.batch.size does not exist\n",
      "2021-09-30 09:37:14,163 WARN conf.HiveConf: HiveConf of name hive.notification.sequence.lock.retry.sleep.interval does not exist\n",
      "2021-09-30 09:37:14,164 WARN conf.HiveConf: HiveConf of name hive.repl.approx.max.load.tasks does not exist\n",
      "2021-09-30 09:37:14,164 WARN conf.HiveConf: HiveConf of name hive.query.results.cache.enabled does not exist\n",
      "2021-09-30 09:37:14,164 WARN conf.HiveConf: HiveConf of name hive.legacy.schema.for.all.serdes does not exist\n",
      "2021-09-30 09:37:14,164 WARN conf.HiveConf: HiveConf of name hive.tez.dag.status.check.interval does not exist\n",
      "2021-09-30 09:37:14,164 WARN conf.HiveConf: HiveConf of name hive.druid.bitmap.type does not exist\n",
      "2021-09-30 09:37:14,164 WARN conf.HiveConf: HiveConf of name hive.spark.dynamic.partition.pruning.map.join.only does not exist\n",
      "2021-09-30 09:37:14,164 WARN conf.HiveConf: HiveConf of name hive.llap.memory.oversubscription.max.executors.per.query does not exist\n",
      "2021-09-30 09:37:14,164 WARN conf.HiveConf: HiveConf of name hive.llap.io.trace.size does not exist\n",
      "2021-09-30 09:37:14,164 WARN conf.HiveConf: HiveConf of name hive.llap.plugin.rpc.num.handlers does not exist\n",
      "2021-09-30 09:37:14,164 WARN conf.HiveConf: HiveConf of name hive.server2.wm.allow.any.pool.via.jdbc does not exist\n",
      "2021-09-30 09:37:14,164 WARN conf.HiveConf: HiveConf of name hive.vectorized.groupby.complex.types.enabled does not exist\n",
      "2021-09-30 09:37:14,164 WARN conf.HiveConf: HiveConf of name hive.avro.timestamp.skip.conversion does not exist\n",
      "2021-09-30 09:37:14,164 WARN conf.HiveConf: HiveConf of name hive.query.results.cache.nontransactional.tables.enabled does not exist\n",
      "2021-09-30 09:37:14,164 WARN conf.HiveConf: HiveConf of name hive.stats.correlated.multi.key.joins does not exist\n",
      "2021-09-30 09:37:14,164 WARN conf.HiveConf: HiveConf of name hive.metastore.db.type does not exist\n",
      "2021-09-30 09:37:14,164 WARN conf.HiveConf: HiveConf of name hive.streaming.auto.flush.check.interval.size does not exist\n",
      "2021-09-30 09:37:14,164 WARN conf.HiveConf: HiveConf of name hive.zookeeper.connection.timeout does not exist\n",
      "2021-09-30 09:37:14,164 WARN conf.HiveConf: HiveConf of name hive.query.reexecution.strategies does not exist\n",
      "2021-09-30 09:37:14,164 WARN conf.HiveConf: HiveConf of name hive.server2.limit.connections.per.user.ipaddress does not exist\n",
      "2021-09-30 09:37:14,164 WARN conf.HiveConf: HiveConf of name hive.llap.mapjoin.memory.monitor.check.interval does not exist\n",
      "2021-09-30 09:37:14,164 WARN conf.HiveConf: HiveConf of name hive.optimize.shared.work does not exist\n",
      "2021-09-30 09:37:14,164 WARN conf.HiveConf: HiveConf of name hive.stats.estimate does not exist\n",
      "2021-09-30 09:37:14,164 WARN conf.HiveConf: HiveConf of name hive.llap.io.allocator.discard.method does not exist\n",
      "2021-09-30 09:37:14,164 WARN conf.HiveConf: HiveConf of name hive.tez.cartesian-product.enabled does not exist\n",
      "2021-09-30 09:37:14,164 WARN conf.HiveConf: HiveConf of name hive.notification.sequence.lock.max.retries does not exist\n",
      "2021-09-30 09:37:14,164 WARN conf.HiveConf: HiveConf of name hive.heap.memory.monitor.usage.threshold does not exist\n",
      "2021-09-30 09:37:14,164 WARN conf.HiveConf: HiveConf of name hive.privilege.synchronizer.interval does not exist\n",
      "2021-09-30 09:37:14,164 WARN conf.HiveConf: HiveConf of name hive.vectorized.adaptor.suppress.evaluate.exceptions does not exist\n",
      "2021-09-30 09:37:14,164 WARN conf.HiveConf: HiveConf of name hive.materializedview.rebuild.incremental does not exist\n",
      "2021-09-30 09:37:14,164 WARN conf.HiveConf: HiveConf of name hive.query.results.cache.max.entry.size does not exist\n",
      "2021-09-30 09:37:14,164 WARN conf.HiveConf: HiveConf of name hive.spark.stage.max.tasks does not exist\n",
      "2021-09-30 09:37:14,164 WARN conf.HiveConf: HiveConf of name hive.testing.short.logs does not exist\n",
      "2021-09-30 09:37:14,164 WARN conf.HiveConf: HiveConf of name hive.streaming.auto.flush.enabled does not exist\n",
      "2021-09-30 09:37:14,165 WARN conf.HiveConf: HiveConf of name hive.spark.explain.user does not exist\n",
      "2021-09-30 09:37:14,165 WARN conf.HiveConf: HiveConf of name hive.server2.operation.log.cleanup.delay does not exist\n",
      "2021-09-30 09:37:14,165 WARN conf.HiveConf: HiveConf of name hive.repl.dump.metadata.only does not exist\n",
      "2021-09-30 09:37:14,165 WARN conf.HiveConf: HiveConf of name hive.optimize.countdistinct does not exist\n",
      "2021-09-30 09:37:14,165 WARN conf.HiveConf: HiveConf of name hive.auto.convert.join.shuffle.max.size does not exist\n",
      "2021-09-30 09:37:14,165 WARN conf.HiveConf: HiveConf of name hive.llap.plugin.acl does not exist\n",
      "2021-09-30 09:37:14,165 WARN conf.HiveConf: HiveConf of name hive.metastore.schema.info.class does not exist\n",
      "2021-09-30 09:37:14,165 WARN conf.HiveConf: HiveConf of name hive.server2.tez.queue.access.check does not exist\n",
      "2021-09-30 09:37:14,165 WARN conf.HiveConf: HiveConf of name hive.llap.external.splits.temp.table.storage.format does not exist\n",
      "2021-09-30 09:37:14,165 WARN conf.HiveConf: HiveConf of name hive.llap.io.row.wrapper.enabled does not exist\n",
      "2021-09-30 09:37:14,165 WARN conf.HiveConf: HiveConf of name hive.constraint.notnull.enforce does not exist\n",
      "2021-09-30 09:37:14,165 WARN conf.HiveConf: HiveConf of name hive.cli.print.escape.crlf does not exist\n",
      "2021-09-30 09:37:14,165 WARN conf.HiveConf: HiveConf of name hive.trigger.validation.interval does not exist\n",
      "2021-09-30 09:37:14,165 WARN conf.HiveConf: HiveConf of name hive.server2.webui.cors.allowed.origins does not exist\n",
      "2021-09-30 09:37:14,165 WARN conf.HiveConf: HiveConf of name hive.server2.limit.connections.per.ipaddress does not exist\n",
      "2021-09-30 09:37:14,165 WARN conf.HiveConf: HiveConf of name hive.llap.external.splits.order.by.force.single.split does not exist\n",
      "2021-09-30 09:37:14,165 WARN conf.HiveConf: HiveConf of name hive.metastore.client.cache.stats.enabled does not exist\n",
      "2021-09-30 09:37:14,165 WARN conf.HiveConf: HiveConf of name hive.notification.event.poll.interval does not exist\n",
      "2021-09-30 09:37:14,165 WARN conf.HiveConf: HiveConf of name hive.transactional.concatenate.noblock does not exist\n",
      "2021-09-30 09:37:14,165 WARN conf.HiveConf: HiveConf of name hive.materializedview.rewriting.strategy does not exist\n",
      "2021-09-30 09:37:14,165 WARN conf.HiveConf: HiveConf of name hive.vectorized.if.expr.mode does not exist\n",
      "2021-09-30 09:37:14,165 WARN conf.HiveConf: HiveConf of name hive.exim.test.mode does not exist\n",
      "2021-09-30 09:37:14,165 WARN conf.HiveConf: HiveConf of name hive.query.results.cache.directory does not exist\n",
      "2021-09-30 09:37:14,165 WARN conf.HiveConf: HiveConf of name hive.query.results.cache.wait.for.pending.results does not exist\n",
      "2021-09-30 09:37:14,165 WARN conf.HiveConf: HiveConf of name hive.remove.orderby.in.subquery does not exist\n",
      "2021-09-30 09:37:14,165 WARN conf.HiveConf: HiveConf of name hive.tez.bmj.use.subcache does not exist\n",
      "2021-09-30 09:37:14,165 WARN conf.HiveConf: HiveConf of name hive.llap.io.vrb.queue.limit.min does not exist\n",
      "2021-09-30 09:37:14,165 WARN conf.HiveConf: HiveConf of name hive.server2.wm.pool.metrics does not exist\n",
      "2021-09-30 09:37:14,165 WARN conf.HiveConf: HiveConf of name hive.repl.add.raw.reserved.namespace does not exist\n",
      "2021-09-30 09:37:14,165 WARN conf.HiveConf: HiveConf of name hive.resource.use.hdfs.location does not exist\n",
      "2021-09-30 09:37:14,165 WARN conf.HiveConf: HiveConf of name hive.stats.num.nulls.estimate.percent does not exist\n",
      "2021-09-30 09:37:14,166 WARN conf.HiveConf: HiveConf of name hive.llap.io.acid does not exist\n",
      "2021-09-30 09:37:14,166 WARN conf.HiveConf: HiveConf of name hive.llap.zk.sm.session.timeout does not exist\n",
      "2021-09-30 09:37:14,166 WARN conf.HiveConf: HiveConf of name hive.vectorized.ptf.max.memory.buffering.batch.count does not exist\n",
      "2021-09-30 09:37:14,166 WARN conf.HiveConf: HiveConf of name hive.llap.task.scheduler.am.registry does not exist\n",
      "2021-09-30 09:37:14,166 WARN conf.HiveConf: HiveConf of name hive.druid.overlord.address.default does not exist\n",
      "2021-09-30 09:37:14,166 WARN conf.HiveConf: HiveConf of name hive.optimize.remove.sq_count_check does not exist\n",
      "2021-09-30 09:37:14,166 WARN conf.HiveConf: HiveConf of name hive.server2.webui.enable.cors does not exist\n",
      "2021-09-30 09:37:14,166 WARN conf.HiveConf: HiveConf of name hive.vectorized.row.serde.inputformat.excludes does not exist\n",
      "2021-09-30 09:37:14,166 WARN conf.HiveConf: HiveConf of name hive.query.reexecution.stats.cache.size does not exist\n",
      "2021-09-30 09:37:14,166 WARN conf.HiveConf: HiveConf of name hive.combine.equivalent.work.optimization does not exist\n",
      "2021-09-30 09:37:14,166 WARN conf.HiveConf: HiveConf of name hive.lock.query.string.max.length does not exist\n",
      "2021-09-30 09:37:14,166 WARN conf.HiveConf: HiveConf of name hive.llap.io.track.cache.usage does not exist\n",
      "2021-09-30 09:37:14,166 WARN conf.HiveConf: HiveConf of name hive.use.orc.codec.pool does not exist\n",
      "2021-09-30 09:37:14,166 WARN conf.HiveConf: HiveConf of name hive.query.results.cache.max.size does not exist\n",
      "2021-09-30 09:37:14,166 WARN conf.HiveConf: HiveConf of name hive.repl.bootstrap.dump.open.txn.timeout does not exist\n",
      "2021-09-30 09:37:19,319 WARN metastore.ObjectStore: Failed to get database global_temp, returning NoSuchObjectException\n"
     ]
    }
   ],
   "metadata": {}
  },
  {
   "cell_type": "code",
   "execution_count": 5,
   "source": [
    "\n",
    "fb_data_hive=spark.sql(\"select * from default.facebook_data\")\n",
    "fb_data_hive.show()"
   ],
   "outputs": [
    {
     "output_type": "stream",
     "name": "stdout",
     "text": [
      "+-------+---+-------+--------+---------+------+------+------------+---------------------+-----+--------------+------------+---------------------+---------+------------------+\n",
      "| userid|age|dob_day|dob_year|dob_month|gender|tenure|friend_count|friendships_initiated|likes|likes_received|mobile_likes|mobile_likes_received|www_likes|www_likes_received|\n",
      "+-------+---+-------+--------+---------+------+------+------------+---------------------+-----+--------------+------------+---------------------+---------+------------------+\n",
      "|2094382| 14|     19|    1999|       11|  male|   266|           0|                    0|    0|             0|           0|                    0|        0|                 0|\n",
      "|1192601| 14|      2|    1999|       11|female|     6|           0|                    0|    0|             0|           0|                    0|        0|                 0|\n",
      "|2083884| 14|     16|    1999|       11|  male|    13|           0|                    0|    0|             0|           0|                    0|        0|                 0|\n",
      "|1203168| 14|     25|    1999|       12|female|    93|           0|                    0|    0|             0|           0|                    0|        0|                 0|\n",
      "|1733186| 14|      4|    1999|       12|  male|    82|           0|                    0|    0|             0|           0|                    0|        0|                 0|\n",
      "|1524765| 14|      1|    1999|       12|  male|    15|           0|                    0|    0|             0|           0|                    0|        0|                 0|\n",
      "|1136133| 13|     14|    2000|        1|  male|    12|           0|                    0|    0|             0|           0|                    0|        0|                 0|\n",
      "|1680361| 13|      4|    2000|        1|female|     0|           0|                    0|    0|             0|           0|                    0|        0|                 0|\n",
      "|1365174| 13|      1|    2000|        1|  male|    81|           0|                    0|    0|             0|           0|                    0|        0|                 0|\n",
      "|1712567| 13|      2|    2000|        2|  male|   171|           0|                    0|    0|             0|           0|                    0|        0|                 0|\n",
      "|1612453| 13|     22|    2000|        2|  male|    98|           0|                    0|    0|             0|           0|                    0|        0|                 0|\n",
      "|2104073| 13|      1|    2000|        2|  male|    55|           0|                    0|    0|             0|           0|                    0|        0|                 0|\n",
      "|1918584| 13|      5|    2000|        3|  male|   106|           0|                    0|    0|             0|           0|                    0|        0|                 0|\n",
      "|1704433| 13|     21|    2000|        3|  male|    61|           0|                    0|    0|             0|           0|                    0|        0|                 0|\n",
      "|1932519| 13|     28|    2000|        3|female|     0|           0|                    0|    0|             0|           0|                    0|        0|                 0|\n",
      "|1751722| 13|      7|    2000|        4|female|    16|           0|                    0|    0|             0|           0|                    0|        0|                 0|\n",
      "|1470850| 13|     30|    2000|        5|female|    34|           0|                    0|    0|             0|           0|                    0|        0|                 0|\n",
      "|1001768| 13|     23|    2000|        5|female|    25|           0|                    0|    0|             0|           0|                    0|        0|                 0|\n",
      "|1537661| 13|     16|    2000|        5|female|     4|           0|                    0|    0|             0|           0|                    0|        0|                 0|\n",
      "|1020296| 13|     13|    2000|        8|  male|     9|           0|                    0|    0|             0|           0|                    0|        0|                 0|\n",
      "+-------+---+-------+--------+---------+------+------+------------+---------------------+-----+--------------+------------+---------------------+---------+------------------+\n",
      "only showing top 20 rows\n",
      "\n"
     ]
    }
   ],
   "metadata": {}
  },
  {
   "cell_type": "code",
   "execution_count": 6,
   "source": [
    "count_age_above_25 = spark.sql(\"select count(''),age from default.facebook_data where age >25 group By age\")\n",
    "count_age_above_25.show()"
   ],
   "outputs": [
    {
     "output_type": "stream",
     "name": "stderr",
     "text": []
    },
    {
     "output_type": "stream",
     "name": "stdout",
     "text": [
      "+-------+---+\n",
      "|count()|age|\n",
      "+-------+---+\n",
      "|    971| 51|\n",
      "|    951| 54|\n",
      "|    157|101|\n",
      "|   1936| 29|\n",
      "|    460| 69|\n",
      "|    835| 42|\n",
      "|     18|112|\n",
      "|    330| 73|\n",
      "|     42| 87|\n",
      "|    709| 64|\n",
      "|   1716| 30|\n",
      "|    202|113|\n",
      "|   1257| 34|\n",
      "|    834| 59|\n",
      "|   2364| 28|\n",
      "|     83| 85|\n",
      "|   1175| 35|\n",
      "|    995| 52|\n",
      "|    352| 71|\n",
      "|     93| 98|\n",
      "+-------+---+\n",
      "only showing top 20 rows\n",
      "\n"
     ]
    }
   ],
   "metadata": {}
  },
  {
   "cell_type": "markdown",
   "source": [
    "# AGE GROUP 20-30"
   ],
   "metadata": {}
  },
  {
   "cell_type": "code",
   "execution_count": 7,
   "source": [
    "TT_df=spark.sql(\"select * from default.facebook_data where age >= 20 and age <= 30\")\n",
    "TT_df.show()"
   ],
   "outputs": [
    {
     "output_type": "stream",
     "name": "stdout",
     "text": [
      "+-------+---+-------+--------+---------+------+------+------------+---------------------+-----+--------------+------------+---------------------+---------+------------------+\n",
      "| userid|age|dob_day|dob_year|dob_month|gender|tenure|friend_count|friendships_initiated|likes|likes_received|mobile_likes|mobile_likes_received|www_likes|www_likes_received|\n",
      "+-------+---+-------+--------+---------+------+------+------------+---------------------+-----+--------------+------------+---------------------+---------+------------------+\n",
      "|2099593| 20|     14|    1993|       11|  male|   294|           0|                    0|    0|             0|           0|                    0|        0|                 0|\n",
      "|1209993| 20|     26|    1993|       11|  male|   159|           0|                    0|    0|             0|           0|                    0|        0|                 0|\n",
      "|1202760| 20|     22|    1993|       11|  male|    24|           0|                    0|    0|             0|           0|                    0|        0|                 0|\n",
      "|1138174| 20|      4|    1993|       12|female|    96|           0|                    0|    0|             0|           0|                    0|        0|                 0|\n",
      "|1724334| 21|     21|    1992|       11|  male|   251|           0|                    0|    0|             0|           0|                    0|        0|                 0|\n",
      "|1439541| 21|      4|    1992|       11|  male|    16|           0|                    0|    0|             0|           0|                    0|        0|                 0|\n",
      "|1787342| 21|     29|    1992|       12|  male|  1244|           0|                    0|    0|             0|           0|                    0|        0|                 0|\n",
      "|1592756| 21|     25|    1992|       12|  male|   669|           0|                    0|    0|             0|           0|                    0|        0|                 0|\n",
      "|2160210| 21|     31|    1992|       12|  male|    11|           0|                    0|    0|             0|           0|                    0|        0|                 0|\n",
      "|1804604| 20|     18|    1993|        1|female|   797|           0|                    0|    0|             0|           0|                    0|        0|                 0|\n",
      "|1251517| 20|     30|    1993|        1|  male|   508|           0|                    0|    0|             0|           0|                    0|        0|                 0|\n",
      "|1212857| 20|      6|    1993|        1|  male|    27|           0|                    0|    0|             0|           0|                    0|        0|                 0|\n",
      "|1018870| 20|      1|    1993|        1|female|    33|           0|                    0|    0|             0|           0|                    0|        0|                 0|\n",
      "|2015792| 20|     26|    1993|        2|  male|  1610|           0|                    0|    0|             0|           0|                    0|        0|                 0|\n",
      "|1602988| 20|     10|    1993|        2|  male|   130|           0|                    0|    0|             0|           0|                    0|        0|                 0|\n",
      "|1994885| 20|     27|    1993|        2|  male|   174|           0|                    0|    0|             0|           0|                    0|        0|                 0|\n",
      "|1783684| 20|     10|    1993|        2|female|    42|           0|                    0|    0|             0|           0|                    0|        0|                 0|\n",
      "|1336099| 20|     14|    1993|        2|  male|    45|           0|                    0|    0|             0|           0|                    0|        0|                 0|\n",
      "|1370224| 20|     13|    1993|        3|  male|   473|           0|                    0|    0|             0|           0|                    0|        0|                 0|\n",
      "|1072317| 20|      3|    1993|        3|  male|   143|           0|                    0|    0|             0|           0|                    0|        0|                 0|\n",
      "+-------+---+-------+--------+---------+------+------+------------+---------------------+-----+--------------+------------+---------------------+---------+------------------+\n",
      "only showing top 20 rows\n",
      "\n"
     ]
    }
   ],
   "metadata": {}
  },
  {
   "cell_type": "markdown",
   "source": [
    "# GROUP BY GENDER"
   ],
   "metadata": {}
  },
  {
   "cell_type": "code",
   "execution_count": 8,
   "source": [
    "spark.sql(\"select count(*) from facebook_data group by gender\").show()"
   ],
   "outputs": [
    {
     "output_type": "stream",
     "name": "stderr",
     "text": []
    },
    {
     "output_type": "stream",
     "name": "stdout",
     "text": [
      "+--------+\n",
      "|count(1)|\n",
      "+--------+\n",
      "|     175|\n",
      "|   40254|\n",
      "|   58574|\n",
      "+--------+\n",
      "\n"
     ]
    },
    {
     "output_type": "stream",
     "name": "stderr",
     "text": []
    }
   ],
   "metadata": {}
  },
  {
   "cell_type": "markdown",
   "source": [
    "# FINDING TOTAL USERS"
   ],
   "metadata": {}
  },
  {
   "cell_type": "code",
   "execution_count": 9,
   "source": [
    "total_users = spark.sql(\"select count(*) as total_user from default.facebook_data\")\n",
    "total_users.show()"
   ],
   "outputs": [
    {
     "output_type": "stream",
     "name": "stdout",
     "text": [
      "+----------+\n",
      "|total_user|\n",
      "+----------+\n",
      "|     99003|\n",
      "+----------+\n",
      "\n"
     ]
    }
   ],
   "metadata": {}
  },
  {
   "cell_type": "markdown",
   "source": [
    "# FRIENDS BY GENDER"
   ],
   "metadata": {}
  },
  {
   "cell_type": "code",
   "execution_count": 10,
   "source": [
    "friends_by_gender = spark.sql(\"select gender,avg(friend_count) as friend_count from default.facebook_data group by gender\")\n",
    "friends_by_gender.show()"
   ],
   "outputs": [
    {
     "output_type": "stream",
     "name": "stderr",
     "text": []
    },
    {
     "output_type": "stream",
     "name": "stdout",
     "text": [
      "+------+------------------+\n",
      "|gender|      friend_count|\n",
      "+------+------------------+\n",
      "|    NA|184.41142857142856|\n",
      "|female|241.96994087544095|\n",
      "|  male|165.03545941885477|\n",
      "+------+------------------+\n",
      "\n"
     ]
    },
    {
     "output_type": "stream",
     "name": "stderr",
     "text": []
    }
   ],
   "metadata": {}
  },
  {
   "cell_type": "markdown",
   "source": [
    "# YOUNG, OLD PEOPLE LIKES"
   ],
   "metadata": {}
  },
  {
   "cell_type": "code",
   "execution_count": 11,
   "source": [
    "young = spark.sql(\"select avg(likes_received) as young_people_likes from default.facebook_data where age>=13 and age < 35\")\n",
    "old = spark.sql(\"select avg(likes_received) as old_people_likes from default.facebook_data where age >= 35\")\n",
    "young.show()\n",
    "old.show()"
   ],
   "outputs": [
    {
     "output_type": "stream",
     "name": "stdout",
     "text": [
      "+------------------+\n",
      "|young_people_likes|\n",
      "+------------------+\n",
      "|168.13453529795453|\n",
      "+------------------+\n",
      "\n",
      "+------------------+\n",
      "|  old_people_likes|\n",
      "+------------------+\n",
      "|103.89021217994491|\n",
      "+------------------+\n",
      "\n"
     ]
    }
   ],
   "metadata": {}
  },
  {
   "cell_type": "markdown",
   "source": [
    "# BIRTHDAY MONTHS COUNT"
   ],
   "metadata": {}
  },
  {
   "cell_type": "code",
   "execution_count": 12,
   "source": [
    "birthday_month_count = spark.sql(\"select dob_month,count(*) as birthday_month_count from default.facebook_data group by dob_month\")\n",
    "birthday_month_count.show()"
   ],
   "outputs": [
    {
     "output_type": "stream",
     "name": "stderr",
     "text": []
    },
    {
     "output_type": "stream",
     "name": "stdout",
     "text": [
      "+---------+--------------------+\n",
      "|dob_month|birthday_month_count|\n",
      "+---------+--------------------+\n",
      "|        7|                8021|\n",
      "|       11|                7205|\n",
      "|        3|                8110|\n",
      "|        8|                8266|\n",
      "|        5|                8271|\n",
      "|        6|                7607|\n",
      "|        9|                7939|\n",
      "|        1|               11772|\n",
      "|       10|                8476|\n",
      "|        4|                7810|\n",
      "|       12|                7894|\n",
      "|        2|                7632|\n",
      "+---------+--------------------+\n",
      "\n"
     ]
    },
    {
     "output_type": "stream",
     "name": "stderr",
     "text": []
    }
   ],
   "metadata": {}
  },
  {
   "cell_type": "markdown",
   "source": [
    "# YOUNG PEOPLE TYPES OF LIKES RECIEVED WEB OR MOBILE"
   ],
   "metadata": {}
  },
  {
   "cell_type": "code",
   "execution_count": 13,
   "source": [
    "young_choice = spark.sql(\"select avg(mobile_likes_received) as mobile_uses,avg(www_likes_received) as computer_uses from default.facebook_data where age >= 13 and age < 35\")\n",
    "young_choice.show()"
   ],
   "outputs": [
    {
     "output_type": "stream",
     "name": "stdout",
     "text": [
      "+------------------+-----------------+\n",
      "|       mobile_uses|    computer_uses|\n",
      "+------------------+-----------------+\n",
      "|101.67734274389122|66.45714237928786|\n",
      "+------------------+-----------------+\n",
      "\n"
     ]
    }
   ],
   "metadata": {}
  },
  {
   "cell_type": "markdown",
   "source": [
    "# OLD PEOPLE TYPES OF LIKES RECIEVED WEB OR MOBILE"
   ],
   "metadata": {}
  },
  {
   "cell_type": "code",
   "execution_count": 14,
   "source": [
    "old_choice = spark.sql(\"select avg(mobile_likes_received) as mobile_uses,avg(www_likes_received) as computer_uses from default.facebook_data where age>= 35\")\n",
    "old_choice.show()"
   ],
   "outputs": [
    {
     "output_type": "stream",
     "name": "stdout",
     "text": [
      "+-----------------+------------------+\n",
      "|      mobile_uses|     computer_uses|\n",
      "+-----------------+------------------+\n",
      "|57.34956135876772|46.540625318779966|\n",
      "+-----------------+------------------+\n",
      "\n"
     ]
    }
   ],
   "metadata": {}
  },
  {
   "cell_type": "markdown",
   "source": [
    "# PROCCESSING AND PLOTTING WITH PANDAS AND MATPLOTLIB"
   ],
   "metadata": {}
  },
  {
   "cell_type": "markdown",
   "source": [
    "# LOADING DATASET FROM CSV FILE TO PANDAS DATAFRAME"
   ],
   "metadata": {}
  },
  {
   "cell_type": "code",
   "execution_count": 15,
   "source": [
    "fb_data = pd.read_csv(\"/home/ubuntu/Downloads/facebook.csv\")"
   ],
   "outputs": [],
   "metadata": {}
  },
  {
   "cell_type": "markdown",
   "source": [
    "# FILLING NA VALUES WITH INTERPOLATE"
   ],
   "metadata": {}
  },
  {
   "cell_type": "code",
   "execution_count": 16,
   "source": [
    "clean_fb_data = fb_data.replace('NA', np.nan)"
   ],
   "outputs": [],
   "metadata": {}
  },
  {
   "cell_type": "code",
   "execution_count": 17,
   "source": [
    "clean_fb_data[\"gender\"].interpolate(method='pad',limit=1,inplace=True)\n"
   ],
   "outputs": [],
   "metadata": {}
  },
  {
   "cell_type": "code",
   "execution_count": 18,
   "source": [
    "clean_fb_data['gender'].value_counts()/clean_fb_data.shape[0]*100"
   ],
   "outputs": [
    {
     "output_type": "execute_result",
     "data": {
      "text/plain": [
       "male      59.25275\n",
       "female    40.74725\n",
       "Name: gender, dtype: float64"
      ]
     },
     "metadata": {},
     "execution_count": 18
    }
   ],
   "metadata": {}
  },
  {
   "cell_type": "code",
   "execution_count": 19,
   "source": [
    "clean_fb_data.isna().sum()"
   ],
   "outputs": [
    {
     "output_type": "execute_result",
     "data": {
      "text/plain": [
       "userid                   0\n",
       "age                      0\n",
       "dob_day                  0\n",
       "dob_year                 0\n",
       "dob_month                0\n",
       "gender                   0\n",
       "tenure                   2\n",
       "friend_count             0\n",
       "friendships_initiated    0\n",
       "likes                    0\n",
       "likes_received           0\n",
       "mobile_likes             0\n",
       "mobile_likes_received    0\n",
       "www_likes                0\n",
       "www_likes_received       0\n",
       "dtype: int64"
      ]
     },
     "metadata": {},
     "execution_count": 19
    }
   ],
   "metadata": {}
  },
  {
   "cell_type": "markdown",
   "source": [
    "# DROOPPING NULL VALUES"
   ],
   "metadata": {}
  },
  {
   "cell_type": "code",
   "execution_count": 20,
   "source": [
    "clean_fb_data.dropna(inplace=True)"
   ],
   "outputs": [],
   "metadata": {}
  },
  {
   "cell_type": "code",
   "execution_count": 21,
   "source": [
    "clean_fb_data"
   ],
   "outputs": [
    {
     "output_type": "execute_result",
     "data": {
      "text/plain": [
       "        userid  age  dob_day  dob_year  dob_month  gender  tenure  \\\n",
       "0      2094382   14       19      1999         11    male   266.0   \n",
       "1      1192601   14        2      1999         11  female     6.0   \n",
       "2      2083884   14       16      1999         11    male    13.0   \n",
       "3      1203168   14       25      1999         12  female    93.0   \n",
       "4      1733186   14        4      1999         12    male    82.0   \n",
       "...        ...  ...      ...       ...        ...     ...     ...   \n",
       "98998  1268299   68        4      1945          4  female   541.0   \n",
       "98999  1256153   18       12      1995          3  female    21.0   \n",
       "99000  1195943   15       10      1998          5  female   111.0   \n",
       "99001  1468023   23       11      1990          4  female   416.0   \n",
       "99002  1397896   39       15      1974          5  female   397.0   \n",
       "\n",
       "       friend_count  friendships_initiated  likes  likes_received  \\\n",
       "0                 0                      0      0               0   \n",
       "1                 0                      0      0               0   \n",
       "2                 0                      0      0               0   \n",
       "3                 0                      0      0               0   \n",
       "4                 0                      0      0               0   \n",
       "...             ...                    ...    ...             ...   \n",
       "98998          2118                    341   3996           18089   \n",
       "98999          1968                   1720   4401           13412   \n",
       "99000          2002                   1524  11959           12554   \n",
       "99001          2560                    185   4506            6516   \n",
       "99002          2049                    768   9410           12443   \n",
       "\n",
       "       mobile_likes  mobile_likes_received  www_likes  www_likes_received  \n",
       "0                 0                      0          0                   0  \n",
       "1                 0                      0          0                   0  \n",
       "2                 0                      0          0                   0  \n",
       "3                 0                      0          0                   0  \n",
       "4                 0                      0          0                   0  \n",
       "...             ...                    ...        ...                 ...  \n",
       "98998          3505                  11887        491                6202  \n",
       "98999          4399                  10592          2                2820  \n",
       "99000         11959                  11462          0                1092  \n",
       "99001          4506                   5760          0                 756  \n",
       "99002          9410                   9530          0                2913  \n",
       "\n",
       "[99001 rows x 15 columns]"
      ],
      "text/html": [
       "<div>\n",
       "<style scoped>\n",
       "    .dataframe tbody tr th:only-of-type {\n",
       "        vertical-align: middle;\n",
       "    }\n",
       "\n",
       "    .dataframe tbody tr th {\n",
       "        vertical-align: top;\n",
       "    }\n",
       "\n",
       "    .dataframe thead th {\n",
       "        text-align: right;\n",
       "    }\n",
       "</style>\n",
       "<table border=\"1\" class=\"dataframe\">\n",
       "  <thead>\n",
       "    <tr style=\"text-align: right;\">\n",
       "      <th></th>\n",
       "      <th>userid</th>\n",
       "      <th>age</th>\n",
       "      <th>dob_day</th>\n",
       "      <th>dob_year</th>\n",
       "      <th>dob_month</th>\n",
       "      <th>gender</th>\n",
       "      <th>tenure</th>\n",
       "      <th>friend_count</th>\n",
       "      <th>friendships_initiated</th>\n",
       "      <th>likes</th>\n",
       "      <th>likes_received</th>\n",
       "      <th>mobile_likes</th>\n",
       "      <th>mobile_likes_received</th>\n",
       "      <th>www_likes</th>\n",
       "      <th>www_likes_received</th>\n",
       "    </tr>\n",
       "  </thead>\n",
       "  <tbody>\n",
       "    <tr>\n",
       "      <th>0</th>\n",
       "      <td>2094382</td>\n",
       "      <td>14</td>\n",
       "      <td>19</td>\n",
       "      <td>1999</td>\n",
       "      <td>11</td>\n",
       "      <td>male</td>\n",
       "      <td>266.0</td>\n",
       "      <td>0</td>\n",
       "      <td>0</td>\n",
       "      <td>0</td>\n",
       "      <td>0</td>\n",
       "      <td>0</td>\n",
       "      <td>0</td>\n",
       "      <td>0</td>\n",
       "      <td>0</td>\n",
       "    </tr>\n",
       "    <tr>\n",
       "      <th>1</th>\n",
       "      <td>1192601</td>\n",
       "      <td>14</td>\n",
       "      <td>2</td>\n",
       "      <td>1999</td>\n",
       "      <td>11</td>\n",
       "      <td>female</td>\n",
       "      <td>6.0</td>\n",
       "      <td>0</td>\n",
       "      <td>0</td>\n",
       "      <td>0</td>\n",
       "      <td>0</td>\n",
       "      <td>0</td>\n",
       "      <td>0</td>\n",
       "      <td>0</td>\n",
       "      <td>0</td>\n",
       "    </tr>\n",
       "    <tr>\n",
       "      <th>2</th>\n",
       "      <td>2083884</td>\n",
       "      <td>14</td>\n",
       "      <td>16</td>\n",
       "      <td>1999</td>\n",
       "      <td>11</td>\n",
       "      <td>male</td>\n",
       "      <td>13.0</td>\n",
       "      <td>0</td>\n",
       "      <td>0</td>\n",
       "      <td>0</td>\n",
       "      <td>0</td>\n",
       "      <td>0</td>\n",
       "      <td>0</td>\n",
       "      <td>0</td>\n",
       "      <td>0</td>\n",
       "    </tr>\n",
       "    <tr>\n",
       "      <th>3</th>\n",
       "      <td>1203168</td>\n",
       "      <td>14</td>\n",
       "      <td>25</td>\n",
       "      <td>1999</td>\n",
       "      <td>12</td>\n",
       "      <td>female</td>\n",
       "      <td>93.0</td>\n",
       "      <td>0</td>\n",
       "      <td>0</td>\n",
       "      <td>0</td>\n",
       "      <td>0</td>\n",
       "      <td>0</td>\n",
       "      <td>0</td>\n",
       "      <td>0</td>\n",
       "      <td>0</td>\n",
       "    </tr>\n",
       "    <tr>\n",
       "      <th>4</th>\n",
       "      <td>1733186</td>\n",
       "      <td>14</td>\n",
       "      <td>4</td>\n",
       "      <td>1999</td>\n",
       "      <td>12</td>\n",
       "      <td>male</td>\n",
       "      <td>82.0</td>\n",
       "      <td>0</td>\n",
       "      <td>0</td>\n",
       "      <td>0</td>\n",
       "      <td>0</td>\n",
       "      <td>0</td>\n",
       "      <td>0</td>\n",
       "      <td>0</td>\n",
       "      <td>0</td>\n",
       "    </tr>\n",
       "    <tr>\n",
       "      <th>...</th>\n",
       "      <td>...</td>\n",
       "      <td>...</td>\n",
       "      <td>...</td>\n",
       "      <td>...</td>\n",
       "      <td>...</td>\n",
       "      <td>...</td>\n",
       "      <td>...</td>\n",
       "      <td>...</td>\n",
       "      <td>...</td>\n",
       "      <td>...</td>\n",
       "      <td>...</td>\n",
       "      <td>...</td>\n",
       "      <td>...</td>\n",
       "      <td>...</td>\n",
       "      <td>...</td>\n",
       "    </tr>\n",
       "    <tr>\n",
       "      <th>98998</th>\n",
       "      <td>1268299</td>\n",
       "      <td>68</td>\n",
       "      <td>4</td>\n",
       "      <td>1945</td>\n",
       "      <td>4</td>\n",
       "      <td>female</td>\n",
       "      <td>541.0</td>\n",
       "      <td>2118</td>\n",
       "      <td>341</td>\n",
       "      <td>3996</td>\n",
       "      <td>18089</td>\n",
       "      <td>3505</td>\n",
       "      <td>11887</td>\n",
       "      <td>491</td>\n",
       "      <td>6202</td>\n",
       "    </tr>\n",
       "    <tr>\n",
       "      <th>98999</th>\n",
       "      <td>1256153</td>\n",
       "      <td>18</td>\n",
       "      <td>12</td>\n",
       "      <td>1995</td>\n",
       "      <td>3</td>\n",
       "      <td>female</td>\n",
       "      <td>21.0</td>\n",
       "      <td>1968</td>\n",
       "      <td>1720</td>\n",
       "      <td>4401</td>\n",
       "      <td>13412</td>\n",
       "      <td>4399</td>\n",
       "      <td>10592</td>\n",
       "      <td>2</td>\n",
       "      <td>2820</td>\n",
       "    </tr>\n",
       "    <tr>\n",
       "      <th>99000</th>\n",
       "      <td>1195943</td>\n",
       "      <td>15</td>\n",
       "      <td>10</td>\n",
       "      <td>1998</td>\n",
       "      <td>5</td>\n",
       "      <td>female</td>\n",
       "      <td>111.0</td>\n",
       "      <td>2002</td>\n",
       "      <td>1524</td>\n",
       "      <td>11959</td>\n",
       "      <td>12554</td>\n",
       "      <td>11959</td>\n",
       "      <td>11462</td>\n",
       "      <td>0</td>\n",
       "      <td>1092</td>\n",
       "    </tr>\n",
       "    <tr>\n",
       "      <th>99001</th>\n",
       "      <td>1468023</td>\n",
       "      <td>23</td>\n",
       "      <td>11</td>\n",
       "      <td>1990</td>\n",
       "      <td>4</td>\n",
       "      <td>female</td>\n",
       "      <td>416.0</td>\n",
       "      <td>2560</td>\n",
       "      <td>185</td>\n",
       "      <td>4506</td>\n",
       "      <td>6516</td>\n",
       "      <td>4506</td>\n",
       "      <td>5760</td>\n",
       "      <td>0</td>\n",
       "      <td>756</td>\n",
       "    </tr>\n",
       "    <tr>\n",
       "      <th>99002</th>\n",
       "      <td>1397896</td>\n",
       "      <td>39</td>\n",
       "      <td>15</td>\n",
       "      <td>1974</td>\n",
       "      <td>5</td>\n",
       "      <td>female</td>\n",
       "      <td>397.0</td>\n",
       "      <td>2049</td>\n",
       "      <td>768</td>\n",
       "      <td>9410</td>\n",
       "      <td>12443</td>\n",
       "      <td>9410</td>\n",
       "      <td>9530</td>\n",
       "      <td>0</td>\n",
       "      <td>2913</td>\n",
       "    </tr>\n",
       "  </tbody>\n",
       "</table>\n",
       "<p>99001 rows × 15 columns</p>\n",
       "</div>"
      ]
     },
     "metadata": {},
     "execution_count": 21
    }
   ],
   "metadata": {}
  },
  {
   "cell_type": "markdown",
   "source": [
    "# VISUALIZING LIKE COUNT BY GENDER"
   ],
   "metadata": {}
  },
  {
   "cell_type": "code",
   "execution_count": 22,
   "source": [
    "likes_count=clean_fb_data.groupby([\"gender\"])[\"likes_received\"].sum()"
   ],
   "outputs": [],
   "metadata": {}
  },
  {
   "cell_type": "code",
   "execution_count": 23,
   "source": [
    "likes_count.plot.bar(x='gender',title='likes_count')\n",
    "plt.show()"
   ],
   "outputs": [
    {
     "output_type": "display_data",
     "data": {
      "text/plain": [
       "<Figure size 432x288 with 1 Axes>"
      ],
      "image/png": "[encoded data removed]"
     },
     "metadata": {
      "needs_background": "light"
     }
    }
   ],
   "metadata": {}
  },
  {
   "cell_type": "code",
   "execution_count": 24,
   "source": [
    "f = plt.figure(figsize=(8,5))\n",
    "plt.ticklabel_format(style = 'plain')\n",
    "likes_count.plot.bar()\n",
    "plt.title(\"Likes Count\")\n",
    "plt.minorticks_on()\n",
    "plt.tight_layout()"
   ],
   "outputs": [
    {
     "output_type": "display_data",
     "data": {
      "text/plain": [
       "<Figure size 576x360 with 1 Axes>"
      ],
      "image/png": "[encoded data removed]"
     },
     "metadata": {
      "needs_background": "light"
     }
    }
   ],
   "metadata": {}
  },
  {
   "cell_type": "markdown",
   "source": [
    "# VISUALIZATION WITH AGE GROUPS"
   ],
   "metadata": {}
  },
  {
   "cell_type": "code",
   "execution_count": null,
   "source": [
    "import numpy as np\n",
    "import seaborn as sns\n",
    "plt.style.use(\"fivethirtyeight\")"
   ],
   "outputs": [],
   "metadata": {}
  },
  {
   "cell_type": "code",
   "execution_count": null,
   "source": [
    "min(clean_fb_data['age']), max(clean_fb_data['age'])"
   ],
   "outputs": [],
   "metadata": {}
  },
  {
   "cell_type": "code",
   "execution_count": null,
   "source": [
    "lables = ['10-20','21-30','31-40','41-50','51-60','61-70','71-80','81-90','91-100','101-110','111-120']\n",
    "clean_fb_data['age_group'] = pd.cut(clean_fb_data['age'], bins = np.arange(10, 121, 10), labels = lables, right=True)\n",
    "clean_fb_data.head(5)"
   ],
   "outputs": [],
   "metadata": {}
  },
  {
   "cell_type": "code",
   "execution_count": null,
   "source": [
    "\n",
    "plt.subplots(figsize = (10,8))\n",
    "sns.histplot(clean_fb_data, x = 'age_group', multiple=\"dodge\", shrink = 0.6)\n",
    "plt.xticks(rotation=45)\n",
    "plt.show()"
   ],
   "outputs": [],
   "metadata": {}
  },
  {
   "cell_type": "markdown",
   "source": [
    "# GENDER WISE ANALYSIS"
   ],
   "metadata": {}
  },
  {
   "cell_type": "code",
   "execution_count": 25,
   "source": [
    "clean_fb_data['gender'].value_counts().plot(kind='bar', title='Gender')"
   ],
   "outputs": [
    {
     "output_type": "execute_result",
     "data": {
      "text/plain": [
       "<matplotlib.axes._subplots.AxesSubplot at 0x7fba8c5d75e0>"
      ]
     },
     "metadata": {},
     "execution_count": 25
    },
    {
     "output_type": "display_data",
     "data": {
      "text/plain": [
       "<Figure size 432x288 with 1 Axes>"
      ],
      "image/png": "[encoded data removed]"
     },
     "metadata": {
      "needs_background": "light"
     }
    }
   ],
   "metadata": {}
  },
  {
   "cell_type": "code",
   "execution_count": 26,
   "source": [
    "gender_counts = clean_fb_data['gender'].value_counts()\n",
    "fig,ax=plt.subplots(figsize=(10,8))\n",
    "fig.set_facecolor('lightgrey')\n",
    "explode=[0,0.1]\n",
    "plt.pie(gender_counts, labels = ['MALE','FEMALE'], autopct='%1.1f%%',shadow=True,explode=explode)\n",
    "plt.legend()\n",
    "plt.show()"
   ],
   "outputs": [
    {
     "output_type": "display_data",
     "data": {
      "text/plain": [
       "<Figure size 720x576 with 1 Axes>"
      ],
      "image/png": "[encoded data removed]"
     },
     "metadata": {}
    }
   ],
   "metadata": {}
  },
  {
   "cell_type": "markdown",
   "source": [
    "# INACTIVE USERS ANALYSIS"
   ],
   "metadata": {}
  },
  {
   "cell_type": "code",
   "execution_count": 28,
   "source": [
    "import seaborn as sns"
   ],
   "outputs": [],
   "metadata": {}
  },
  {
   "cell_type": "code",
   "execution_count": 29,
   "source": [
    "inactive_users = clean_fb_data.query('friend_count == 0 and friendships_initiated == 0 and likes == 0')\n",
    "plt.subplots(figsize = (10,8))\n",
    "sns.histplot(data = inactive_users, x = 'gender', shrink = 0.6)\n",
    "plt.show()"
   ],
   "outputs": [
    {
     "output_type": "display_data",
     "data": {
      "text/plain": [
       "<Figure size 720x576 with 1 Axes>"
      ],
      "image/png": "[encoded data removed]"
     },
     "metadata": {
      "needs_background": "light"
     }
    }
   ],
   "metadata": {}
  },
  {
   "cell_type": "markdown",
   "source": [
    "# WEB AND MOBILE USERS"
   ],
   "metadata": {}
  },
  {
   "cell_type": "code",
   "execution_count": 30,
   "source": [
    "active_users = clean_fb_data.query(\"friendships_initiated !=0 and likes != 0\").reset_index(drop=True)\n",
    "# get wich platform they are using\n",
    "active_users['use_method'] = (active_users['mobile_likes'] >= active_users['www_likes']).replace({True : 'mobile', False : 'web'})\n",
    "\n",
    "# plot it\n",
    "fig,ax=plt.subplots(figsize = (10,8))\n",
    "fig.set_facecolor('lightgrey')\n",
    "plt.pie(active_users['use_method'].value_counts(), labels = ['Mobile','Web'], autopct='%1.1f%%')\n",
    "plt.show()"
   ],
   "outputs": [
    {
     "output_type": "display_data",
     "data": {
      "text/plain": [
       "<Figure size 720x576 with 1 Axes>"
      ],
      "image/png": "[encoded data removed]"
     },
     "metadata": {}
    }
   ],
   "metadata": {}
  }
 ],
 "metadata": {
  "orig_nbformat": 4,
  "language_info": {
   "name": "python",
   "version": "3.8.10",
   "mimetype": "text/x-python",
   "codemirror_mode": {
    "name": "ipython",
    "version": 3
   },
   "pygments_lexer": "ipython3",
   "nbconvert_exporter": "python",
   "file_extension": ".py"
  },
  "kernelspec": {
   "name": "python3",
   "display_name": "Python 3.8.10 64-bit"
  },
  "interpreter": {
   "hash": "916dbcbb3f70747c44a77c7bcd40155683ae19c65e1c03b4aa3499c5328201f1"
  }
 },
 "nbformat": 4,
 "nbformat_minor": 2
}